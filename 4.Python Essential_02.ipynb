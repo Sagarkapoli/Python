{
 "cells": [
  {
   "cell_type": "markdown",
   "id": "bec03c80",
   "metadata": {},
   "source": [
    "# Data Structures of Python"
   ]
  },
  {
   "cell_type": "code",
   "execution_count": 3,
   "id": "62cb64ec",
   "metadata": {},
   "outputs": [
    {
     "name": "stdout",
     "output_type": "stream",
     "text": [
      "[]\n"
     ]
    },
    {
     "data": {
      "text/plain": [
       "list"
      ]
     },
     "execution_count": 3,
     "metadata": {},
     "output_type": "execute_result"
    }
   ],
   "source": [
    "# list creation\n",
    "\n",
    "l1 = []   #empty list\n",
    "print(l1)\n",
    "type(l1)"
   ]
  },
  {
   "cell_type": "code",
   "execution_count": 4,
   "id": "7f8efc0b",
   "metadata": {},
   "outputs": [
    {
     "data": {
      "text/plain": [
       "[1, 2, 3, 4]"
      ]
     },
     "execution_count": 4,
     "metadata": {},
     "output_type": "execute_result"
    }
   ],
   "source": [
    "l2 = list([1,2,3,4]) #list of integers\n",
    "l2"
   ]
  },
  {
   "cell_type": "code",
   "execution_count": 6,
   "id": "58626d3b",
   "metadata": {},
   "outputs": [
    {
     "data": {
      "text/plain": [
       "[12.3, 34.5, 56.23, 5]"
      ]
     },
     "execution_count": 6,
     "metadata": {},
     "output_type": "execute_result"
    }
   ],
   "source": [
    "l3 = [12.3, 34.5, 56.23, 5]  #list of float\n",
    "l3"
   ]
  },
  {
   "cell_type": "code",
   "execution_count": 7,
   "id": "1fbe9661",
   "metadata": {},
   "outputs": [
    {
     "data": {
      "text/plain": [
       "['ABC', 'DEF', 'GHI']"
      ]
     },
     "execution_count": 7,
     "metadata": {},
     "output_type": "execute_result"
    }
   ],
   "source": [
    "l4= [\"ABC\", \"DEF\", \"GHI\"]\n",
    "l4"
   ]
  },
  {
   "cell_type": "code",
   "execution_count": 10,
   "id": "73d6f24a",
   "metadata": {},
   "outputs": [
    {
     "name": "stdout",
     "output_type": "stream",
     "text": [
      "['date', 25, [50, 100], [150, 90]]\n"
     ]
    },
    {
     "data": {
      "text/plain": [
       "list"
      ]
     },
     "execution_count": 10,
     "metadata": {},
     "output_type": "execute_result"
    }
   ],
   "source": [
    "l5 = ['date', 25, [50, 100], [150,90]]   #Nested list i.e\n",
    "print(l5)\n",
    "type(l5)"
   ]
  },
  {
   "cell_type": "code",
   "execution_count": 11,
   "id": "23664008",
   "metadata": {},
   "outputs": [
    {
     "data": {
      "text/plain": [
       "[100, 'data', 56.7]"
      ]
     },
     "execution_count": 11,
     "metadata": {},
     "output_type": "execute_result"
    }
   ],
   "source": [
    "l6 = [100, 'data', 56.7]   #list of mixed data type\n",
    "l6"
   ]
  },
  {
   "cell_type": "code",
   "execution_count": 14,
   "id": "01f238bd",
   "metadata": {},
   "outputs": [
    {
     "data": {
      "text/plain": [
       "4"
      ]
     },
     "execution_count": 14,
     "metadata": {},
     "output_type": "execute_result"
    }
   ],
   "source": [
    "len(l5)  #number of elements in list"
   ]
  },
  {
   "cell_type": "markdown",
   "id": "ed0c11e7",
   "metadata": {},
   "source": [
    "### List indexing and slicing"
   ]
  },
  {
   "cell_type": "code",
   "execution_count": 17,
   "id": "4cba5d78",
   "metadata": {},
   "outputs": [],
   "source": [
    "my_list = ['one', 'two','three','four','five','six','seven']"
   ]
  },
  {
   "cell_type": "code",
   "execution_count": 18,
   "id": "f7355dcc",
   "metadata": {},
   "outputs": [
    {
     "data": {
      "text/plain": [
       "'three'"
      ]
     },
     "execution_count": 18,
     "metadata": {},
     "output_type": "execute_result"
    }
   ],
   "source": [
    "my_list[2]"
   ]
  },
  {
   "cell_type": "code",
   "execution_count": 19,
   "id": "a0bb26dd",
   "metadata": {},
   "outputs": [
    {
     "data": {
      "text/plain": [
       "['one', 'three', 'five', 'seven']"
      ]
     },
     "execution_count": 19,
     "metadata": {},
     "output_type": "execute_result"
    }
   ],
   "source": [
    "my_list[0:7:2]"
   ]
  },
  {
   "cell_type": "code",
   "execution_count": 20,
   "id": "5db56167",
   "metadata": {},
   "outputs": [
    {
     "data": {
      "text/plain": [
       "['one', 'two', 'three', 'four', 'five', 'six', 'seven']"
      ]
     },
     "execution_count": 20,
     "metadata": {},
     "output_type": "execute_result"
    }
   ],
   "source": [
    "my_list[0:]"
   ]
  },
  {
   "cell_type": "markdown",
   "id": "2dfb0d99",
   "metadata": {},
   "source": [
    "### add, remove & change items"
   ]
  },
  {
   "cell_type": "code",
   "execution_count": 21,
   "id": "77302b4d",
   "metadata": {},
   "outputs": [],
   "source": [
    "list1 = ['one', 'two','three','four','five','six','seven']"
   ]
  },
  {
   "cell_type": "code",
   "execution_count": 22,
   "id": "b1f894e1",
   "metadata": {},
   "outputs": [
    {
     "data": {
      "text/plain": [
       "['one', 'two', 'three', 'four', 'five', 'six', 'seven', 'nine']"
      ]
     },
     "execution_count": 22,
     "metadata": {},
     "output_type": "execute_result"
    }
   ],
   "source": [
    "list1.append('nine')   #add an item to the ed of the list\n",
    "list1"
   ]
  },
  {
   "cell_type": "code",
   "execution_count": 28,
   "id": "93fddfa4",
   "metadata": {},
   "outputs": [
    {
     "name": "stdout",
     "output_type": "stream",
     "text": [
      "['one', 'two', 'three', 'four', 'five', 'six', 'seven', 'nine', 'eight', 'eight', 'eight', 'ten', 'ten'] "
     ]
    }
   ],
   "source": [
    "list1.insert(8, 'eight')   # add item at index location 9\n",
    "print(list1, end=' ')"
   ]
  },
  {
   "cell_type": "code",
   "execution_count": 29,
   "id": "6333d89e",
   "metadata": {},
   "outputs": [
    {
     "data": {
      "text/plain": [
       "['one',\n",
       " 'two',\n",
       " 'three',\n",
       " 'four',\n",
       " 'five',\n",
       " 'six',\n",
       " 'seven',\n",
       " 'nine',\n",
       " 'eight',\n",
       " 'eight',\n",
       " 'eight',\n",
       " 'ten',\n",
       " 'ten',\n",
       " 1,\n",
       " 3,\n",
       " 5]"
      ]
     },
     "execution_count": 29,
     "metadata": {},
     "output_type": "execute_result"
    }
   ],
   "source": [
    "list1.extend([1,3,5])   \n",
    "list1"
   ]
  },
  {
   "cell_type": "code",
   "execution_count": 30,
   "id": "3d5c7df1",
   "metadata": {},
   "outputs": [
    {
     "data": {
      "text/plain": [
       "['one',\n",
       " 'two',\n",
       " 'three',\n",
       " 'four',\n",
       " 'five',\n",
       " 'six',\n",
       " 'seven',\n",
       " 'nine',\n",
       " 'eight',\n",
       " 'eight',\n",
       " 'eight',\n",
       " 'ten',\n",
       " 'ten',\n",
       " 1,\n",
       " 3]"
      ]
     },
     "execution_count": 30,
     "metadata": {},
     "output_type": "execute_result"
    }
   ],
   "source": [
    "list1.pop() #remove last element of the list\n",
    "list1"
   ]
  },
  {
   "cell_type": "code",
   "execution_count": 31,
   "id": "1bd0ba2e",
   "metadata": {},
   "outputs": [
    {
     "data": {
      "text/plain": [
       "'nine'"
      ]
     },
     "execution_count": 31,
     "metadata": {},
     "output_type": "execute_result"
    }
   ],
   "source": [
    "list1.pop(7) #remove item at index location"
   ]
  },
  {
   "cell_type": "code",
   "execution_count": 34,
   "id": "8fa47315",
   "metadata": {},
   "outputs": [
    {
     "data": {
      "text/plain": [
       "['one',\n",
       " 'two',\n",
       " 'three',\n",
       " 'four',\n",
       " 'five',\n",
       " 'six',\n",
       " 'seven',\n",
       " 'eight',\n",
       " 'ten',\n",
       " 'ten',\n",
       " 1,\n",
       " 3]"
      ]
     },
     "execution_count": 34,
     "metadata": {},
     "output_type": "execute_result"
    }
   ],
   "source": [
    "list1.remove('eight')\n",
    "list1"
   ]
  },
  {
   "cell_type": "code",
   "execution_count": 35,
   "id": "f61f53db",
   "metadata": {},
   "outputs": [
    {
     "data": {
      "text/plain": [
       "['one', 'two', 'three', 'four', 'five', 'six', 'seven', 'eight', 'ten', 1, 3]"
      ]
     },
     "execution_count": 35,
     "metadata": {},
     "output_type": "execute_result"
    }
   ],
   "source": [
    "del list1[8]   #remove item at index location\n",
    "list1"
   ]
  },
  {
   "cell_type": "code",
   "execution_count": 38,
   "id": "7e524afb",
   "metadata": {},
   "outputs": [
    {
     "data": {
      "text/plain": [
       "[]"
      ]
     },
     "execution_count": 38,
     "metadata": {},
     "output_type": "execute_result"
    }
   ],
   "source": [
    "list1.clear()  #empty list\n",
    "list1"
   ]
  },
  {
   "cell_type": "code",
   "execution_count": 39,
   "id": "b8d65a2a",
   "metadata": {},
   "outputs": [],
   "source": [
    "del list1"
   ]
  },
  {
   "cell_type": "code",
   "execution_count": 40,
   "id": "a5238b1c",
   "metadata": {},
   "outputs": [
    {
     "ename": "NameError",
     "evalue": "name 'list1' is not defined",
     "output_type": "error",
     "traceback": [
      "\u001b[1;31m---------------------------------------------------------------------------\u001b[0m",
      "\u001b[1;31mNameError\u001b[0m                                 Traceback (most recent call last)",
      "\u001b[1;32m~\\AppData\\Local\\Temp/ipykernel_7056/866546473.py\u001b[0m in \u001b[0;36m<module>\u001b[1;34m\u001b[0m\n\u001b[1;32m----> 1\u001b[1;33m \u001b[0mlist1\u001b[0m\u001b[1;33m\u001b[0m\u001b[1;33m\u001b[0m\u001b[0m\n\u001b[0m",
      "\u001b[1;31mNameError\u001b[0m: name 'list1' is not defined"
     ]
    }
   ],
   "source": [
    "list1"
   ]
  },
  {
   "cell_type": "markdown",
   "id": "784cb2cf",
   "metadata": {},
   "source": [
    "### join list"
   ]
  },
  {
   "cell_type": "code",
   "execution_count": 41,
   "id": "a1e2318f",
   "metadata": {},
   "outputs": [],
   "source": [
    "list1 = ['one', 'two', 'three', 'four']\n",
    "list2 = ['five', 'six', 'seven', 'eight']"
   ]
  },
  {
   "cell_type": "code",
   "execution_count": 42,
   "id": "d0a5c10a",
   "metadata": {},
   "outputs": [
    {
     "data": {
      "text/plain": [
       "['one', 'two', 'three', 'four', 'five', 'six', 'seven', 'eight']"
      ]
     },
     "execution_count": 42,
     "metadata": {},
     "output_type": "execute_result"
    }
   ],
   "source": [
    "list3 = list1 + list2 #join two list by '+' operator\n",
    "list3"
   ]
  },
  {
   "cell_type": "code",
   "execution_count": 43,
   "id": "3e287dea",
   "metadata": {},
   "outputs": [
    {
     "data": {
      "text/plain": [
       "['one', 'two', 'three', 'four', 'five', 'six', 'seven', 'eight']"
      ]
     },
     "execution_count": 43,
     "metadata": {},
     "output_type": "execute_result"
    }
   ],
   "source": [
    "list1.extend(list2)   #append list2 with list1\n",
    "list1"
   ]
  },
  {
   "cell_type": "markdown",
   "id": "3f5586c4",
   "metadata": {},
   "source": [
    "### List membership"
   ]
  },
  {
   "cell_type": "code",
   "execution_count": 44,
   "id": "4c1edfc0",
   "metadata": {},
   "outputs": [
    {
     "data": {
      "text/plain": [
       "True"
      ]
     },
     "execution_count": 44,
     "metadata": {},
     "output_type": "execute_result"
    }
   ],
   "source": [
    "'one' in list1  #check if 'one' exist in the list"
   ]
  },
  {
   "cell_type": "code",
   "execution_count": 45,
   "id": "b57ee67e",
   "metadata": {},
   "outputs": [
    {
     "data": {
      "text/plain": [
       "False"
      ]
     },
     "execution_count": 45,
     "metadata": {},
     "output_type": "execute_result"
    }
   ],
   "source": [
    "10 in list1"
   ]
  },
  {
   "cell_type": "code",
   "execution_count": 46,
   "id": "0740576f",
   "metadata": {},
   "outputs": [
    {
     "name": "stdout",
     "output_type": "stream",
     "text": [
      "Three is present in the list\n"
     ]
    }
   ],
   "source": [
    "if 'three' in list1:     #check if three exist in the list\n",
    "    print(\"Three is present in the list\")\n",
    "else:\n",
    "    print(\"three is not present in the list\")"
   ]
  },
  {
   "cell_type": "markdown",
   "id": "7df464c0",
   "metadata": {},
   "source": [
    "### Reverse & Sort list"
   ]
  },
  {
   "cell_type": "code",
   "execution_count": 47,
   "id": "1ee6c8aa",
   "metadata": {},
   "outputs": [
    {
     "data": {
      "text/plain": [
       "['eight', 'seven', 'six', 'five', 'four', 'three', 'two', 'one']"
      ]
     },
     "execution_count": 47,
     "metadata": {},
     "output_type": "execute_result"
    }
   ],
   "source": [
    "list1.reverse()   #Reverse the list\n",
    "list1"
   ]
  },
  {
   "cell_type": "code",
   "execution_count": 52,
   "id": "06b3d035",
   "metadata": {},
   "outputs": [
    {
     "data": {
      "text/plain": [
       "['one', 'two', 'three', 'four', 'five', 'six', 'seven', 'eight']"
      ]
     },
     "execution_count": 52,
     "metadata": {},
     "output_type": "execute_result"
    }
   ],
   "source": [
    "list1 = list1[::-1]   #Reverse the list1\n",
    "list1"
   ]
  },
  {
   "cell_type": "code",
   "execution_count": 54,
   "id": "6a72e97c",
   "metadata": {},
   "outputs": [
    {
     "data": {
      "text/plain": [
       "[12, 16, 24, 34, 45, 76, 97]"
      ]
     },
     "execution_count": 54,
     "metadata": {},
     "output_type": "execute_result"
    }
   ],
   "source": [
    "list3 = [12, 45,24,76,34,97,16]\n",
    "list3.sort()     #sort list in assending order\n",
    "list3"
   ]
  },
  {
   "cell_type": "code",
   "execution_count": 55,
   "id": "4503035c",
   "metadata": {},
   "outputs": [
    {
     "data": {
      "text/plain": [
       "[97, 76, 45, 34, 24, 16, 12]"
      ]
     },
     "execution_count": 55,
     "metadata": {},
     "output_type": "execute_result"
    }
   ],
   "source": [
    "list3.sort(reverse=True)   #sort list in descending order\n",
    "list3"
   ]
  },
  {
   "cell_type": "markdown",
   "id": "2c0461ca",
   "metadata": {},
   "source": [
    "### All / Any"
   ]
  },
  {
   "cell_type": "markdown",
   "id": "1c557eae",
   "metadata": {},
   "source": [
    "The all() method returns:\n",
    "True - if all elements in a list are true\n",
    "Flase - if any element in a list is false\n",
    "\n",
    "The any() function returns True if any elements in the list is True.\n",
    "If not, any() returns False."
   ]
  },
  {
   "cell_type": "code",
   "execution_count": 56,
   "id": "e6facd54",
   "metadata": {},
   "outputs": [],
   "source": [
    "l1 = [1,2,3,4,5,0]"
   ]
  },
  {
   "cell_type": "code",
   "execution_count": 57,
   "id": "0884e4b1",
   "metadata": {},
   "outputs": [
    {
     "data": {
      "text/plain": [
       "False"
      ]
     },
     "execution_count": 57,
     "metadata": {},
     "output_type": "execute_result"
    }
   ],
   "source": [
    "all(l1) "
   ]
  },
  {
   "cell_type": "code",
   "execution_count": 58,
   "id": "a7d12590",
   "metadata": {},
   "outputs": [
    {
     "data": {
      "text/plain": [
       "True"
      ]
     },
     "execution_count": 58,
     "metadata": {},
     "output_type": "execute_result"
    }
   ],
   "source": [
    "any(l1)     #Will returns true as we have items in the list with\n",
    "#True value"
   ]
  },
  {
   "cell_type": "code",
   "execution_count": 59,
   "id": "ed3213cc",
   "metadata": {},
   "outputs": [
    {
     "data": {
      "text/plain": [
       "False"
      ]
     },
     "execution_count": 59,
     "metadata": {},
     "output_type": "execute_result"
    }
   ],
   "source": [
    "l2 = [1,2,3,4,True,False]\n",
    "all(l2)   #Retuns false as one value is false"
   ]
  },
  {
   "cell_type": "code",
   "execution_count": 61,
   "id": "11b8798f",
   "metadata": {},
   "outputs": [
    {
     "data": {
      "text/plain": [
       "True"
      ]
     },
     "execution_count": 61,
     "metadata": {},
     "output_type": "execute_result"
    }
   ],
   "source": [
    "any(l2)  #will return True as we have items in the list with"
   ]
  },
  {
   "cell_type": "markdown",
   "id": "38e86f3f",
   "metadata": {},
   "source": [
    "# Tuples"
   ]
  },
  {
   "cell_type": "code",
   "execution_count": 63,
   "id": "7c6992ae",
   "metadata": {},
   "outputs": [
    {
     "data": {
      "text/plain": [
       "()"
      ]
     },
     "execution_count": 63,
     "metadata": {},
     "output_type": "execute_result"
    }
   ],
   "source": [
    "tup1 =()\n",
    "tup1"
   ]
  },
  {
   "cell_type": "code",
   "execution_count": 64,
   "id": "50512dd2",
   "metadata": {},
   "outputs": [
    {
     "data": {
      "text/plain": [
       "(10, 30, 60)"
      ]
     },
     "execution_count": 64,
     "metadata": {},
     "output_type": "execute_result"
    }
   ],
   "source": [
    "tup2 = (10,30,60)\n",
    "tup2"
   ]
  },
  {
   "cell_type": "code",
   "execution_count": 66,
   "id": "8cfce6f8",
   "metadata": {},
   "outputs": [
    {
     "data": {
      "text/plain": [
       "(10.77, 30.66, 60)"
      ]
     },
     "execution_count": 66,
     "metadata": {},
     "output_type": "execute_result"
    }
   ],
   "source": [
    "tup3 = (10.77, 30.66, 60)\n",
    "tup3"
   ]
  },
  {
   "cell_type": "code",
   "execution_count": 68,
   "id": "699fe1fb",
   "metadata": {},
   "outputs": [
    {
     "data": {
      "text/plain": [
       "('one', 'two', 'three')"
      ]
     },
     "execution_count": 68,
     "metadata": {},
     "output_type": "execute_result"
    }
   ],
   "source": [
    "tup4 = ('one', 'two', 'three')  #tuple of strings\n",
    "tup4"
   ]
  },
  {
   "cell_type": "code",
   "execution_count": 70,
   "id": "8286debd",
   "metadata": {},
   "outputs": [
    {
     "data": {
      "text/plain": [
       "('data', 25, (50, 100), (150, 900))"
      ]
     },
     "execution_count": 70,
     "metadata": {},
     "output_type": "execute_result"
    }
   ],
   "source": [
    "tup5 = ('data', 25, (50,100),(150,900))\n",
    "tup5"
   ]
  },
  {
   "cell_type": "code",
   "execution_count": 71,
   "id": "c16a3f74",
   "metadata": {},
   "outputs": [
    {
     "data": {
      "text/plain": [
       "('data', 25, [50, 100], [150, 90], {'david', 'john'}, (99, 22, 33))"
      ]
     },
     "execution_count": 71,
     "metadata": {},
     "output_type": "execute_result"
    }
   ],
   "source": [
    "tup7 = ('data', 25, [50,100],[150,90],{'john','david'},(99,22,33))\n",
    "tup7"
   ]
  },
  {
   "cell_type": "markdown",
   "id": "a6fdef13",
   "metadata": {},
   "source": [
    "### Tuple Indexing"
   ]
  },
  {
   "cell_type": "code",
   "execution_count": 72,
   "id": "7bf445be",
   "metadata": {},
   "outputs": [
    {
     "data": {
      "text/plain": [
       "10"
      ]
     },
     "execution_count": 72,
     "metadata": {},
     "output_type": "execute_result"
    }
   ],
   "source": [
    "tup2[0]"
   ]
  },
  {
   "cell_type": "code",
   "execution_count": 73,
   "id": "e3bc4a6d",
   "metadata": {},
   "outputs": [
    {
     "data": {
      "text/plain": [
       "('data', 25, [50, 100], [150, 90], {'david', 'john'}, (99, 22, 33))"
      ]
     },
     "execution_count": 73,
     "metadata": {},
     "output_type": "execute_result"
    }
   ],
   "source": [
    "tup7"
   ]
  },
  {
   "cell_type": "code",
   "execution_count": 74,
   "id": "df0ba9ea",
   "metadata": {},
   "outputs": [
    {
     "data": {
      "text/plain": [
       "50"
      ]
     },
     "execution_count": 74,
     "metadata": {},
     "output_type": "execute_result"
    }
   ],
   "source": [
    "tup7[2][0]  #Nested indexing - access the first character of tuple"
   ]
  },
  {
   "cell_type": "code",
   "execution_count": 81,
   "id": "a7f1a2a2",
   "metadata": {},
   "outputs": [],
   "source": [
    "tup8 = ('data', 25, [50, 100], [150, 90], ('david', 'john'), (99, 22, 33))"
   ]
  },
  {
   "cell_type": "code",
   "execution_count": 83,
   "id": "aa532abd",
   "metadata": {},
   "outputs": [
    {
     "data": {
      "text/plain": [
       "'david'"
      ]
     },
     "execution_count": 83,
     "metadata": {},
     "output_type": "execute_result"
    }
   ],
   "source": [
    "tup8[4][0]"
   ]
  },
  {
   "cell_type": "markdown",
   "id": "8935e3ea",
   "metadata": {},
   "source": [
    "### Tuple slicing"
   ]
  },
  {
   "cell_type": "code",
   "execution_count": 84,
   "id": "54ba86df",
   "metadata": {},
   "outputs": [],
   "source": [
    "mytuple = ('one', 'two', 'three', 'four', 'five', 'six', 'seven', 'eight')"
   ]
  },
  {
   "cell_type": "code",
   "execution_count": 85,
   "id": "90fd9075",
   "metadata": {},
   "outputs": [
    {
     "data": {
      "text/plain": [
       "('one', 'two', 'three')"
      ]
     },
     "execution_count": 85,
     "metadata": {},
     "output_type": "execute_result"
    }
   ],
   "source": [
    "mytuple[0:3]"
   ]
  },
  {
   "cell_type": "markdown",
   "id": "7d9c1da4",
   "metadata": {},
   "source": [
    "### Remove and change items"
   ]
  },
  {
   "cell_type": "code",
   "execution_count": 86,
   "id": "0ba29494",
   "metadata": {},
   "outputs": [
    {
     "ename": "TypeError",
     "evalue": "'tuple' object doesn't support item deletion",
     "output_type": "error",
     "traceback": [
      "\u001b[1;31m---------------------------------------------------------------------------\u001b[0m",
      "\u001b[1;31mTypeError\u001b[0m                                 Traceback (most recent call last)",
      "\u001b[1;32m~\\AppData\\Local\\Temp/ipykernel_7056/961779878.py\u001b[0m in \u001b[0;36m<module>\u001b[1;34m\u001b[0m\n\u001b[1;32m----> 1\u001b[1;33m \u001b[1;32mdel\u001b[0m \u001b[0mmytuple\u001b[0m\u001b[1;33m[\u001b[0m\u001b[1;36m0\u001b[0m\u001b[1;33m]\u001b[0m\u001b[1;33m\u001b[0m\u001b[1;33m\u001b[0m\u001b[0m\n\u001b[0m\u001b[0;32m      2\u001b[0m \u001b[0mmytuple\u001b[0m\u001b[1;33m\u001b[0m\u001b[1;33m\u001b[0m\u001b[0m\n",
      "\u001b[1;31mTypeError\u001b[0m: 'tuple' object doesn't support item deletion"
     ]
    }
   ],
   "source": [
    "del mytuple[0]\n",
    "mytuple    #Tuples are immutable which means we cannot delete the items"
   ]
  },
  {
   "cell_type": "code",
   "execution_count": 87,
   "id": "22cf7496",
   "metadata": {},
   "outputs": [
    {
     "ename": "TypeError",
     "evalue": "'tuple' object does not support item assignment",
     "output_type": "error",
     "traceback": [
      "\u001b[1;31m---------------------------------------------------------------------------\u001b[0m",
      "\u001b[1;31mTypeError\u001b[0m                                 Traceback (most recent call last)",
      "\u001b[1;32m~\\AppData\\Local\\Temp/ipykernel_7056/2453735110.py\u001b[0m in \u001b[0;36m<module>\u001b[1;34m\u001b[0m\n\u001b[1;32m----> 1\u001b[1;33m \u001b[0mmytuple\u001b[0m\u001b[1;33m[\u001b[0m\u001b[1;36m0\u001b[0m\u001b[1;33m]\u001b[0m \u001b[1;33m=\u001b[0m \u001b[1;36m1\u001b[0m\u001b[1;33m\u001b[0m\u001b[1;33m\u001b[0m\u001b[0m\n\u001b[0m",
      "\u001b[1;31mTypeError\u001b[0m: 'tuple' object does not support item assignment"
     ]
    }
   ],
   "source": [
    "mytuple[0] = 1"
   ]
  },
  {
   "cell_type": "code",
   "execution_count": 89,
   "id": "85bb34bb",
   "metadata": {},
   "outputs": [
    {
     "ename": "NameError",
     "evalue": "name 'mytuple' is not defined",
     "output_type": "error",
     "traceback": [
      "\u001b[1;31m---------------------------------------------------------------------------\u001b[0m",
      "\u001b[1;31mNameError\u001b[0m                                 Traceback (most recent call last)",
      "\u001b[1;32m~\\AppData\\Local\\Temp/ipykernel_7056/289906244.py\u001b[0m in \u001b[0;36m<module>\u001b[1;34m\u001b[0m\n\u001b[1;32m----> 1\u001b[1;33m \u001b[1;32mdel\u001b[0m \u001b[0mmytuple\u001b[0m   \u001b[1;31m#Deleting entire element tule object is possible\u001b[0m\u001b[1;33m\u001b[0m\u001b[1;33m\u001b[0m\u001b[0m\n\u001b[0m\u001b[0;32m      2\u001b[0m \u001b[0mmytuple\u001b[0m\u001b[1;33m\u001b[0m\u001b[1;33m\u001b[0m\u001b[0m\n",
      "\u001b[1;31mNameError\u001b[0m: name 'mytuple' is not defined"
     ]
    }
   ],
   "source": [
    "del mytuple   #Deleting entire element tule object is possible\n",
    "mytuple"
   ]
  },
  {
   "cell_type": "markdown",
   "id": "4ea9d9b7",
   "metadata": {},
   "source": [
    "### Count"
   ]
  },
  {
   "cell_type": "code",
   "execution_count": 1,
   "id": "d2136883",
   "metadata": {},
   "outputs": [],
   "source": [
    "mytup1 = ('one', 'two', 'three', 'four', 'one', 'one', 'two', 'three')"
   ]
  },
  {
   "cell_type": "code",
   "execution_count": 91,
   "id": "ac9e3815",
   "metadata": {},
   "outputs": [
    {
     "data": {
      "text/plain": [
       "3"
      ]
     },
     "execution_count": 91,
     "metadata": {},
     "output_type": "execute_result"
    }
   ],
   "source": [
    "mytup1.count('one')"
   ]
  },
  {
   "cell_type": "code",
   "execution_count": 93,
   "id": "52f1cb52",
   "metadata": {},
   "outputs": [
    {
     "data": {
      "text/plain": [
       "3"
      ]
     },
     "execution_count": 93,
     "metadata": {},
     "output_type": "execute_result"
    }
   ],
   "source": [
    "mytup1.index('four')"
   ]
  },
  {
   "cell_type": "code",
   "execution_count": 94,
   "id": "0d96d446",
   "metadata": {},
   "outputs": [
    {
     "data": {
      "text/plain": [
       "False"
      ]
     },
     "execution_count": 94,
     "metadata": {},
     "output_type": "execute_result"
    }
   ],
   "source": [
    "bool(0)"
   ]
  },
  {
   "cell_type": "code",
   "execution_count": null,
   "id": "941c48ac",
   "metadata": {},
   "outputs": [],
   "source": [
    "print(\"two\" in mytup1)\n"
   ]
  },
  {
   "cell_type": "markdown",
   "id": "0029d29b",
   "metadata": {},
   "source": [
    "### Tuple Membership"
   ]
  },
  {
   "cell_type": "code",
   "execution_count": 4,
   "id": "c517a529",
   "metadata": {},
   "outputs": [
    {
     "data": {
      "text/plain": [
       "('one', 'two', 'three', 'four', 'one', 'one', 'two', 'three')"
      ]
     },
     "execution_count": 4,
     "metadata": {},
     "output_type": "execute_result"
    }
   ],
   "source": [
    "mytup1"
   ]
  },
  {
   "cell_type": "code",
   "execution_count": 2,
   "id": "7a0edce5",
   "metadata": {},
   "outputs": [
    {
     "data": {
      "text/plain": [
       "True"
      ]
     },
     "execution_count": 2,
     "metadata": {},
     "output_type": "execute_result"
    }
   ],
   "source": [
    "\"one\" in mytup1   #Check if \"one\" exist in the tuple"
   ]
  },
  {
   "cell_type": "code",
   "execution_count": 3,
   "id": "c89f7994",
   "metadata": {},
   "outputs": [
    {
     "name": "stdout",
     "output_type": "stream",
     "text": [
      "three is present in the tuple\n"
     ]
    }
   ],
   "source": [
    "if \"three\" in mytup1:\n",
    "    print(\"three is present in the tuple\")\n",
    "else:\n",
    "    print(\"three is not present in the tuple\")"
   ]
  },
  {
   "cell_type": "markdown",
   "id": "25704540",
   "metadata": {},
   "source": [
    "### Index Position"
   ]
  },
  {
   "cell_type": "code",
   "execution_count": 5,
   "id": "029e86e7",
   "metadata": {},
   "outputs": [
    {
     "data": {
      "text/plain": [
       "3"
      ]
     },
     "execution_count": 5,
     "metadata": {},
     "output_type": "execute_result"
    }
   ],
   "source": [
    "mytup1.index(\"four\")"
   ]
  },
  {
   "cell_type": "markdown",
   "id": "dccd070c",
   "metadata": {},
   "source": [
    "### Sorting"
   ]
  },
  {
   "cell_type": "code",
   "execution_count": 6,
   "id": "7c82330a",
   "metadata": {},
   "outputs": [],
   "source": [
    "mytuple2 = (43,67,99,12,6,90,67)"
   ]
  },
  {
   "cell_type": "code",
   "execution_count": 7,
   "id": "3e93bcd0",
   "metadata": {},
   "outputs": [
    {
     "data": {
      "text/plain": [
       "[6, 12, 43, 67, 67, 90, 99]"
      ]
     },
     "execution_count": 7,
     "metadata": {},
     "output_type": "execute_result"
    }
   ],
   "source": [
    "sorted(mytuple2)    #Returns a new sorted list and doesn't check"
   ]
  },
  {
   "cell_type": "code",
   "execution_count": 8,
   "id": "460b386d",
   "metadata": {},
   "outputs": [
    {
     "data": {
      "text/plain": [
       "[99, 90, 67, 67, 43, 12, 6]"
      ]
     },
     "execution_count": 8,
     "metadata": {},
     "output_type": "execute_result"
    }
   ],
   "source": [
    "sorted(mytuple2, reverse=True)  #sort in decending order"
   ]
  },
  {
   "cell_type": "markdown",
   "id": "b261eeae",
   "metadata": {},
   "source": [
    "# Sets"
   ]
  },
  {
   "cell_type": "markdown",
   "id": "7eb835ff",
   "metadata": {},
   "source": [
    "* unordered unindexed collection of elements. \n",
    "* Set elements are unique. Duplicated elements are not allowed. \n",
    "* Set elements are immutable (cannot be changed).\n",
    "* Set itself is mutable. We can add or remove items from it."
   ]
  },
  {
   "cell_type": "markdown",
   "id": "d4829cba",
   "metadata": {},
   "source": [
    "### Set Creation"
   ]
  },
  {
   "cell_type": "code",
   "execution_count": 9,
   "id": "b543f157",
   "metadata": {},
   "outputs": [],
   "source": [
    "myset1 = {}   #Empty set cannot be created by curly braces"
   ]
  },
  {
   "cell_type": "code",
   "execution_count": 10,
   "id": "8bc99e93",
   "metadata": {},
   "outputs": [
    {
     "data": {
      "text/plain": [
       "dict"
      ]
     },
     "execution_count": 10,
     "metadata": {},
     "output_type": "execute_result"
    }
   ],
   "source": [
    "type(myset1)"
   ]
  },
  {
   "cell_type": "code",
   "execution_count": 11,
   "id": "e27f53ef",
   "metadata": {},
   "outputs": [
    {
     "name": "stdout",
     "output_type": "stream",
     "text": [
      "<class 'set'>\n"
     ]
    }
   ],
   "source": [
    "myset = set()   #creat an empty set\n",
    "print(type(myset))"
   ]
  },
  {
   "cell_type": "code",
   "execution_count": 12,
   "id": "066f3760",
   "metadata": {},
   "outputs": [
    {
     "data": {
      "text/plain": [
       "{1, 2, 3, 4, 5}"
      ]
     },
     "execution_count": 12,
     "metadata": {},
     "output_type": "execute_result"
    }
   ],
   "source": [
    "myset = {1,2,3,4,5}   #Set of numbers\n",
    "myset"
   ]
  },
  {
   "cell_type": "code",
   "execution_count": 13,
   "id": "cf6e81d4",
   "metadata": {},
   "outputs": [
    {
     "data": {
      "text/plain": [
       "5"
      ]
     },
     "execution_count": 13,
     "metadata": {},
     "output_type": "execute_result"
    }
   ],
   "source": [
    "len(myset)  #lenght of number of elements of set"
   ]
  },
  {
   "cell_type": "code",
   "execution_count": 15,
   "id": "681fa8d4",
   "metadata": {},
   "outputs": [
    {
     "data": {
      "text/plain": [
       "{1, 2, 3, 4, 5}"
      ]
     },
     "execution_count": 15,
     "metadata": {},
     "output_type": "execute_result"
    }
   ],
   "source": [
    "my_set = {1,1,2,2,3,4,5,5}\n",
    "my_set    #Duplicates are not allowed"
   ]
  },
  {
   "cell_type": "code",
   "execution_count": 17,
   "id": "0238a712",
   "metadata": {},
   "outputs": [
    {
     "data": {
      "text/plain": [
       "{1.79, 2.34, 4.53, 4.76, 6.79}"
      ]
     },
     "execution_count": 17,
     "metadata": {},
     "output_type": "execute_result"
    }
   ],
   "source": [
    "myset1 = {1.79, 2.34, 6.79, 4.53, 1.79, 4.76}\n",
    "myset1"
   ]
  },
  {
   "cell_type": "code",
   "execution_count": 18,
   "id": "88a54c43",
   "metadata": {},
   "outputs": [
    {
     "data": {
      "text/plain": [
       "{'birla', 'hello', 'tata', 'welcome'}"
      ]
     },
     "execution_count": 18,
     "metadata": {},
     "output_type": "execute_result"
    }
   ],
   "source": [
    "myset2 = {\"hello\", \"welcome\", \"tata\", \"birla\"}   #set of strings\n",
    "myset2"
   ]
  },
  {
   "cell_type": "code",
   "execution_count": 21,
   "id": "307746a2",
   "metadata": {},
   "outputs": [
    {
     "data": {
      "text/plain": [
       "{(11, 22, 33), 12, 23, 'Hello'}"
      ]
     },
     "execution_count": 21,
     "metadata": {},
     "output_type": "execute_result"
    }
   ],
   "source": [
    "myset3 ={12,23,\"Hello\", (11,22,33)}    #mixed data type\n",
    "myset3"
   ]
  },
  {
   "cell_type": "markdown",
   "id": "e9d6f82f",
   "metadata": {},
   "source": [
    "### Set Membership"
   ]
  },
  {
   "cell_type": "code",
   "execution_count": 23,
   "id": "cadd13da",
   "metadata": {},
   "outputs": [
    {
     "data": {
      "text/plain": [
       "{'four', 'one', 'three', 'two'}"
      ]
     },
     "execution_count": 23,
     "metadata": {},
     "output_type": "execute_result"
    }
   ],
   "source": [
    "myset = {'one', 'two', 'three', 'four', 'one', 'one', 'two', 'three'}\n",
    "myset"
   ]
  },
  {
   "cell_type": "code",
   "execution_count": 25,
   "id": "838bda2c",
   "metadata": {},
   "outputs": [
    {
     "data": {
      "text/plain": [
       "True"
      ]
     },
     "execution_count": 25,
     "metadata": {},
     "output_type": "execute_result"
    }
   ],
   "source": [
    "\"one\" in myset"
   ]
  },
  {
   "cell_type": "code",
   "execution_count": 27,
   "id": "7bb52d05",
   "metadata": {},
   "outputs": [
    {
     "name": "stdout",
     "output_type": "stream",
     "text": [
      "three is present in the set\n"
     ]
    }
   ],
   "source": [
    "if \"three\" in myset:\n",
    "    print(\"three is present in the set\")\n",
    "else:\n",
    "    print(\"three is not present in the set\")"
   ]
  },
  {
   "cell_type": "markdown",
   "id": "f60a21a5",
   "metadata": {},
   "source": [
    "### Add & Remove Items"
   ]
  },
  {
   "cell_type": "code",
   "execution_count": 29,
   "id": "93c479d6",
   "metadata": {},
   "outputs": [
    {
     "data": {
      "text/plain": [
       "{1, 2, 3, 4, 5}"
      ]
     },
     "execution_count": 29,
     "metadata": {},
     "output_type": "execute_result"
    }
   ],
   "source": [
    "my_set"
   ]
  },
  {
   "cell_type": "code",
   "execution_count": 30,
   "id": "96ab02f4",
   "metadata": {},
   "outputs": [
    {
     "data": {
      "text/plain": [
       "{1, 2, 3, 4, 5, 'nine'}"
      ]
     },
     "execution_count": 30,
     "metadata": {},
     "output_type": "execute_result"
    }
   ],
   "source": [
    "my_set.add(\"nine\")\n",
    "my_set"
   ]
  },
  {
   "cell_type": "code",
   "execution_count": 31,
   "id": "3a51610f",
   "metadata": {},
   "outputs": [
    {
     "data": {
      "text/plain": [
       "{1, 2, 3, 4, 5, 'EIGHT', 'Seven', 'nine', 'six'}"
      ]
     },
     "execution_count": 31,
     "metadata": {},
     "output_type": "execute_result"
    }
   ],
   "source": [
    "my_set.update(['six', 'Seven', 'EIGHT'])\n",
    "my_set"
   ]
  },
  {
   "cell_type": "code",
   "execution_count": 32,
   "id": "db1264d8",
   "metadata": {},
   "outputs": [
    {
     "data": {
      "text/plain": [
       "{1, 1.34, 2, 3, 4, 5, 'EIGHT', 'Seven', 'nine', 'six'}"
      ]
     },
     "execution_count": 32,
     "metadata": {},
     "output_type": "execute_result"
    }
   ],
   "source": [
    "my_set.add(1.34)\n",
    "my_set"
   ]
  },
  {
   "cell_type": "code",
   "execution_count": 34,
   "id": "22a86932",
   "metadata": {},
   "outputs": [
    {
     "data": {
      "text/plain": [
       "{1, 1.34, 2, 3, 4, 5, 'EIGHT', 'Seven', 'nine', 'six'}"
      ]
     },
     "execution_count": 34,
     "metadata": {},
     "output_type": "execute_result"
    }
   ],
   "source": [
    "my_set.add(True)\n",
    "my_set"
   ]
  },
  {
   "cell_type": "code",
   "execution_count": 36,
   "id": "87ed5361",
   "metadata": {},
   "outputs": [
    {
     "data": {
      "text/plain": [
       "{0, 1, 1.34, 2, 3, 4, 5, 'EIGHT', 'Seven', 'nine', 'six'}"
      ]
     },
     "execution_count": 36,
     "metadata": {},
     "output_type": "execute_result"
    }
   ],
   "source": [
    "my_set.add(0)\n",
    "my_set"
   ]
  },
  {
   "cell_type": "code",
   "execution_count": 41,
   "id": "8f3d5e32",
   "metadata": {},
   "outputs": [],
   "source": [
    "my_set.add(False)"
   ]
  },
  {
   "cell_type": "code",
   "execution_count": 39,
   "id": "ba9a8a6c",
   "metadata": {},
   "outputs": [
    {
     "data": {
      "text/plain": [
       "{0, 1, 1.34, 2, 3, 4, 5, 'EIGHT', 'Seven', 'nine', 'six'}"
      ]
     },
     "execution_count": 39,
     "metadata": {},
     "output_type": "execute_result"
    }
   ],
   "source": [
    "my_set"
   ]
  },
  {
   "cell_type": "code",
   "execution_count": 42,
   "id": "59c6b709",
   "metadata": {},
   "outputs": [
    {
     "data": {
      "text/plain": [
       "{0, 1, 1.34, 2, 3, 4, 5, 'EIGHT', 'Seven', 'six'}"
      ]
     },
     "execution_count": 42,
     "metadata": {},
     "output_type": "execute_result"
    }
   ],
   "source": [
    "my_set.remove(\"nine\")   #Remove item in a set using remove function\n",
    "my_set"
   ]
  },
  {
   "cell_type": "code",
   "execution_count": 44,
   "id": "f6db6051",
   "metadata": {},
   "outputs": [
    {
     "data": {
      "text/plain": [
       "{0, 1, 1.34, 2, 3, 4, 5, 'Seven', 'six'}"
      ]
     },
     "execution_count": 44,
     "metadata": {},
     "output_type": "execute_result"
    }
   ],
   "source": [
    "my_set.discard('EIGHT')   #remove item in a set usuing discard\n",
    "my_set"
   ]
  },
  {
   "cell_type": "code",
   "execution_count": 45,
   "id": "6df86518",
   "metadata": {},
   "outputs": [
    {
     "data": {
      "text/plain": [
       "set()"
      ]
     },
     "execution_count": 45,
     "metadata": {},
     "output_type": "execute_result"
    }
   ],
   "source": [
    "my_set.clear()   #Delete all the items in a set\n",
    "my_set"
   ]
  },
  {
   "cell_type": "code",
   "execution_count": 48,
   "id": "aa07f727",
   "metadata": {},
   "outputs": [
    {
     "ename": "NameError",
     "evalue": "name 'my_set' is not defined",
     "output_type": "error",
     "traceback": [
      "\u001b[1;31m---------------------------------------------------------------------------\u001b[0m",
      "\u001b[1;31mNameError\u001b[0m                                 Traceback (most recent call last)",
      "\u001b[1;32m~\\AppData\\Local\\Temp/ipykernel_6368/1973038560.py\u001b[0m in \u001b[0;36m<module>\u001b[1;34m\u001b[0m\n\u001b[1;32m----> 1\u001b[1;33m \u001b[1;32mdel\u001b[0m \u001b[0mmy_set\u001b[0m\u001b[1;33m\u001b[0m\u001b[1;33m\u001b[0m\u001b[0m\n\u001b[0m\u001b[0;32m      2\u001b[0m \u001b[0mmy_set\u001b[0m\u001b[1;33m\u001b[0m\u001b[1;33m\u001b[0m\u001b[0m\n",
      "\u001b[1;31mNameError\u001b[0m: name 'my_set' is not defined"
     ]
    }
   ],
   "source": [
    "del my_set\n",
    "my_set"
   ]
  },
  {
   "cell_type": "markdown",
   "id": "9d6ffff2",
   "metadata": {},
   "source": [
    "### Set Operation"
   ]
  },
  {
   "cell_type": "code",
   "execution_count": 49,
   "id": "86cce118",
   "metadata": {},
   "outputs": [],
   "source": [
    "a = {1,2,3,4,5}\n",
    "b = {4,5,6,7,8}\n",
    "c = {8,9,10}"
   ]
  },
  {
   "cell_type": "code",
   "execution_count": 51,
   "id": "1546ddc1",
   "metadata": {},
   "outputs": [
    {
     "data": {
      "text/plain": [
       "{1, 2, 3, 4, 5, 6, 7, 8, 9, 10}"
      ]
     },
     "execution_count": 51,
     "metadata": {},
     "output_type": "execute_result"
    }
   ],
   "source": [
    "a | b | c    #Union of a and b (ALl elements from both sets)"
   ]
  },
  {
   "cell_type": "code",
   "execution_count": 52,
   "id": "99ed8a52",
   "metadata": {},
   "outputs": [
    {
     "data": {
      "text/plain": [
       "{1, 2, 3, 4, 5, 6, 7, 8}"
      ]
     },
     "execution_count": 52,
     "metadata": {},
     "output_type": "execute_result"
    }
   ],
   "source": [
    "a | b"
   ]
  },
  {
   "cell_type": "code",
   "execution_count": 54,
   "id": "5c28cba8",
   "metadata": {},
   "outputs": [
    {
     "data": {
      "text/plain": [
       "{1, 2, 3, 4, 5, 6, 7, 8}"
      ]
     },
     "execution_count": 54,
     "metadata": {},
     "output_type": "execute_result"
    }
   ],
   "source": [
    "a.union(b)"
   ]
  },
  {
   "cell_type": "code",
   "execution_count": 55,
   "id": "0208a502",
   "metadata": {},
   "outputs": [
    {
     "data": {
      "text/plain": [
       "{1, 2, 3, 4, 5, 6, 7, 8}"
      ]
     },
     "execution_count": 55,
     "metadata": {},
     "output_type": "execute_result"
    }
   ],
   "source": [
    "b.union(a)"
   ]
  },
  {
   "cell_type": "code",
   "execution_count": 56,
   "id": "8a94ed2e",
   "metadata": {},
   "outputs": [
    {
     "data": {
      "text/plain": [
       "{1, 2, 3, 4, 5, 6, 7, 8, 9, 10}"
      ]
     },
     "execution_count": 56,
     "metadata": {},
     "output_type": "execute_result"
    }
   ],
   "source": [
    "a.union(b , c)"
   ]
  },
  {
   "cell_type": "code",
   "execution_count": 57,
   "id": "1a7b3b8d",
   "metadata": {},
   "outputs": [],
   "source": [
    "A = {1,2,3,4,5}\n",
    "B = {4,5,6,7,8}"
   ]
  },
  {
   "cell_type": "code",
   "execution_count": 58,
   "id": "c85e1c48",
   "metadata": {},
   "outputs": [
    {
     "data": {
      "text/plain": [
       "{4, 5}"
      ]
     },
     "execution_count": 58,
     "metadata": {},
     "output_type": "execute_result"
    }
   ],
   "source": [
    "A.intersection(B)   # Common elements"
   ]
  },
  {
   "cell_type": "code",
   "execution_count": 59,
   "id": "0658fd2d",
   "metadata": {},
   "outputs": [
    {
     "data": {
      "text/plain": [
       "{4, 5}"
      ]
     },
     "execution_count": 59,
     "metadata": {},
     "output_type": "execute_result"
    }
   ],
   "source": [
    "B.intersection(A)"
   ]
  },
  {
   "cell_type": "code",
   "execution_count": 60,
   "id": "18d848cc",
   "metadata": {},
   "outputs": [
    {
     "data": {
      "text/plain": [
       "{1, 2, 3}"
      ]
     },
     "execution_count": 60,
     "metadata": {},
     "output_type": "execute_result"
    }
   ],
   "source": [
    "A.difference(B)   #difference of set. set of elements that are only in A"
   ]
  },
  {
   "cell_type": "code",
   "execution_count": 61,
   "id": "14468933",
   "metadata": {},
   "outputs": [
    {
     "data": {
      "text/plain": [
       "{6, 7, 8}"
      ]
     },
     "execution_count": 61,
     "metadata": {},
     "output_type": "execute_result"
    }
   ],
   "source": [
    "B.difference(A)   #difference of set. set of elements that are only in B"
   ]
  },
  {
   "cell_type": "markdown",
   "id": "924c835d",
   "metadata": {},
   "source": [
    "# Dictionary"
   ]
  },
  {
   "cell_type": "code",
   "execution_count": 62,
   "id": "c31add9b",
   "metadata": {},
   "outputs": [
    {
     "data": {
      "text/plain": [
       "{}"
      ]
     },
     "execution_count": 62,
     "metadata": {},
     "output_type": "execute_result"
    }
   ],
   "source": [
    "mydict = dict()\n",
    "mydict"
   ]
  },
  {
   "cell_type": "code",
   "execution_count": 63,
   "id": "90af2e96",
   "metadata": {},
   "outputs": [
    {
     "data": {
      "text/plain": [
       "dict"
      ]
     },
     "execution_count": 63,
     "metadata": {},
     "output_type": "execute_result"
    }
   ],
   "source": [
    "type(mydict)"
   ]
  },
  {
   "cell_type": "code",
   "execution_count": 64,
   "id": "e537a4cd",
   "metadata": {},
   "outputs": [
    {
     "data": {
      "text/plain": [
       "{1: 'one', 2: 'two', 3: 'three'}"
      ]
     },
     "execution_count": 64,
     "metadata": {},
     "output_type": "execute_result"
    }
   ],
   "source": [
    "mydict = {1: 'one', 2:'two', 3:'three'}     #dictionary with integer key\n",
    "mydict"
   ]
  },
  {
   "cell_type": "code",
   "execution_count": 65,
   "id": "6a5907b2",
   "metadata": {},
   "outputs": [
    {
     "data": {
      "text/plain": [
       "{1: 'one', 2: 'two', 3: 'three'}"
      ]
     },
     "execution_count": 65,
     "metadata": {},
     "output_type": "execute_result"
    }
   ],
   "source": [
    "mydict = dict({1: 'one', 2:'two', 3:'three'}) #Creat dictionary using dict function\n",
    "mydict"
   ]
  },
  {
   "cell_type": "code",
   "execution_count": 66,
   "id": "e1d5b907",
   "metadata": {},
   "outputs": [
    {
     "data": {
      "text/plain": [
       "{'A': 'one', 'B': 'two', 'C': 'three'}"
      ]
     },
     "execution_count": 66,
     "metadata": {},
     "output_type": "execute_result"
    }
   ],
   "source": [
    "mydict = {'A':'one', 'B':'two', 'C':'three'}  #dictionary with character keys\n",
    "mydict"
   ]
  },
  {
   "cell_type": "code",
   "execution_count": 67,
   "id": "415f446b",
   "metadata": {},
   "outputs": [
    {
     "data": {
      "text/plain": [
       "{1: 'one', 'B': 'two', 3: 'three'}"
      ]
     },
     "execution_count": 67,
     "metadata": {},
     "output_type": "execute_result"
    }
   ],
   "source": [
    "mydict = {1:'one', 'B':'two', 3:'three'}  #dictionary with mixed keys\n",
    "mydict"
   ]
  },
  {
   "cell_type": "code",
   "execution_count": 68,
   "id": "195e8326",
   "metadata": {},
   "outputs": [
    {
     "data": {
      "text/plain": [
       "dict_keys([1, 'B', 3])"
      ]
     },
     "execution_count": 68,
     "metadata": {},
     "output_type": "execute_result"
    }
   ],
   "source": [
    "mydict.keys()"
   ]
  },
  {
   "cell_type": "code",
   "execution_count": 69,
   "id": "e6f61b5e",
   "metadata": {},
   "outputs": [
    {
     "data": {
      "text/plain": [
       "dict_values(['one', 'two', 'three'])"
      ]
     },
     "execution_count": 69,
     "metadata": {},
     "output_type": "execute_result"
    }
   ],
   "source": [
    "mydict.values()"
   ]
  },
  {
   "cell_type": "code",
   "execution_count": 73,
   "id": "95541a83",
   "metadata": {},
   "outputs": [
    {
     "data": {
      "text/plain": [
       "dict_items([(1, 'one'), ('B', 'two'), (3, 'three')])"
      ]
     },
     "execution_count": 73,
     "metadata": {},
     "output_type": "execute_result"
    }
   ],
   "source": [
    "mydict.items()"
   ]
  },
  {
   "cell_type": "code",
   "execution_count": 74,
   "id": "f1fa1514",
   "metadata": {},
   "outputs": [
    {
     "data": {
      "text/plain": [
       "'one'"
      ]
     },
     "execution_count": 74,
     "metadata": {},
     "output_type": "execute_result"
    }
   ],
   "source": [
    "mydict[1]"
   ]
  },
  {
   "cell_type": "code",
   "execution_count": 75,
   "id": "9c920bc4",
   "metadata": {},
   "outputs": [
    {
     "data": {
      "text/plain": [
       "{1: 'one', 2: 'two', 'A': ['Data', 'john', 'Maria']}"
      ]
     },
     "execution_count": 75,
     "metadata": {},
     "output_type": "execute_result"
    }
   ],
   "source": [
    "mydict = {1:'one', 2:'two', 'A':['Data' , 'john', 'Maria']}  \n",
    "# Dictionary with one value as list\n",
    "mydict"
   ]
  },
  {
   "cell_type": "code",
   "execution_count": 76,
   "id": "74d64f39",
   "metadata": {},
   "outputs": [
    {
     "data": {
      "text/plain": [
       "'one'"
      ]
     },
     "execution_count": 76,
     "metadata": {},
     "output_type": "execute_result"
    }
   ],
   "source": [
    "mydict[1]"
   ]
  },
  {
   "cell_type": "code",
   "execution_count": 77,
   "id": "e15aec67",
   "metadata": {},
   "outputs": [
    {
     "data": {
      "text/plain": [
       "'john'"
      ]
     },
     "execution_count": 77,
     "metadata": {},
     "output_type": "execute_result"
    }
   ],
   "source": [
    "mydict['A'][1]"
   ]
  },
  {
   "cell_type": "code",
   "execution_count": 80,
   "id": "f9384830",
   "metadata": {},
   "outputs": [],
   "source": [
    "d = {0:{'one':1, 'two':2, 'three':3, 'four':4,}, 1:{'city':'bangalore', 'area':'kudlu'}, \n",
    "     'three':{'city':'mumbai', 'area':'Dharavi'}}"
   ]
  },
  {
   "cell_type": "code",
   "execution_count": 81,
   "id": "f330818d",
   "metadata": {},
   "outputs": [
    {
     "data": {
      "text/plain": [
       "'kudlu'"
      ]
     },
     "execution_count": 81,
     "metadata": {},
     "output_type": "execute_result"
    }
   ],
   "source": [
    "# Access the value kudlu\n",
    "d[1]['area']"
   ]
  },
  {
   "cell_type": "code",
   "execution_count": 87,
   "id": "356273a2",
   "metadata": {},
   "outputs": [],
   "source": [
    "v = [0,1,2,3,[8,{5:[67,89,90,{'area':'kudlu', 'city':'bangalore'}]}]]"
   ]
  },
  {
   "cell_type": "code",
   "execution_count": 90,
   "id": "0d5f2d9c",
   "metadata": {},
   "outputs": [
    {
     "data": {
      "text/plain": [
       "list"
      ]
     },
     "execution_count": 90,
     "metadata": {},
     "output_type": "execute_result"
    }
   ],
   "source": [
    "type(v)"
   ]
  },
  {
   "cell_type": "code",
   "execution_count": 108,
   "id": "e712f314",
   "metadata": {},
   "outputs": [
    {
     "data": {
      "text/plain": [
       "'bangalore'"
      ]
     },
     "execution_count": 108,
     "metadata": {},
     "output_type": "execute_result"
    }
   ],
   "source": [
    "v[4][1][5][3]['city']"
   ]
  },
  {
   "cell_type": "markdown",
   "id": "f06f3cf6",
   "metadata": {},
   "source": [
    "### Add Remove & Change items"
   ]
  },
  {
   "cell_type": "code",
   "execution_count": 1,
   "id": "24aa1608",
   "metadata": {},
   "outputs": [
    {
     "data": {
      "text/plain": [
       "{'name': 'data', 'ID': 12345, 'DOB': 1991, 'address': 'Helsinki'}"
      ]
     },
     "execution_count": 1,
     "metadata": {},
     "output_type": "execute_result"
    }
   ],
   "source": [
    "dict1 = {'name': 'data' , 'ID':12345, 'DOB':1991, 'address': 'Helsinki'}\n",
    "dict1"
   ]
  },
  {
   "cell_type": "code",
   "execution_count": 2,
   "id": "b1c18942",
   "metadata": {},
   "outputs": [
    {
     "data": {
      "text/plain": [
       "{'name': 'data', 'ID': 12345, 'DOB': 1992, 'address': 'Bailhongal'}"
      ]
     },
     "execution_count": 2,
     "metadata": {},
     "output_type": "execute_result"
    }
   ],
   "source": [
    "dict1['DOB'] = 1992\n",
    "dict1['address'] = 'Bailhongal'\n",
    "dict1"
   ]
  },
  {
   "cell_type": "code",
   "execution_count": 4,
   "id": "30aea345",
   "metadata": {},
   "outputs": [
    {
     "data": {
      "text/plain": [
       "{'name': 'data',\n",
       " 'ID': 12345,\n",
       " 'DOB': 1992,\n",
       " 'address': 'Bailhongal',\n",
       " 'job': 'analyst'}"
      ]
     },
     "execution_count": 4,
     "metadata": {},
     "output_type": "execute_result"
    }
   ],
   "source": [
    "dict1['job'] = 'analyst'\n",
    "dict1"
   ]
  },
  {
   "cell_type": "code",
   "execution_count": 5,
   "id": "41d9daab",
   "metadata": {},
   "outputs": [
    {
     "data": {
      "text/plain": [
       "{'name': 'data', 'ID': 12345, 'DOB': 1992, 'address': 'Bailhongal'}"
      ]
     },
     "execution_count": 5,
     "metadata": {},
     "output_type": "execute_result"
    }
   ],
   "source": [
    "dict1.pop('job')\n",
    "dict1"
   ]
  },
  {
   "cell_type": "code",
   "execution_count": 6,
   "id": "a9825205",
   "metadata": {},
   "outputs": [
    {
     "data": {
      "text/plain": [
       "{'name': 'data', 'ID': 12345, 'DOB': 1992}"
      ]
     },
     "execution_count": 6,
     "metadata": {},
     "output_type": "execute_result"
    }
   ],
   "source": [
    "dict1.popitem()    #Random item is removed\n",
    "dict1"
   ]
  },
  {
   "cell_type": "code",
   "execution_count": 7,
   "id": "4b83000a",
   "metadata": {},
   "outputs": [
    {
     "data": {
      "text/plain": [
       "{'name': 'data', 'DOB': 1992}"
      ]
     },
     "execution_count": 7,
     "metadata": {},
     "output_type": "execute_result"
    }
   ],
   "source": [
    "del [dict1['ID']]   \n",
    "dict1"
   ]
  },
  {
   "cell_type": "code",
   "execution_count": 8,
   "id": "98e37f13",
   "metadata": {},
   "outputs": [
    {
     "data": {
      "text/plain": [
       "{}"
      ]
     },
     "execution_count": 8,
     "metadata": {},
     "output_type": "execute_result"
    }
   ],
   "source": [
    "dict1.clear()    #Delete all the items from the dictionary\n",
    "dict1"
   ]
  },
  {
   "cell_type": "code",
   "execution_count": 9,
   "id": "fe30deb1",
   "metadata": {},
   "outputs": [
    {
     "ename": "NameError",
     "evalue": "name 'dict1' is not defined",
     "output_type": "error",
     "traceback": [
      "\u001b[1;31m---------------------------------------------------------------------------\u001b[0m",
      "\u001b[1;31mNameError\u001b[0m                                 Traceback (most recent call last)",
      "\u001b[1;32m~\\AppData\\Local\\Temp/ipykernel_13772/1486349146.py\u001b[0m in \u001b[0;36m<module>\u001b[1;34m\u001b[0m\n\u001b[0;32m      1\u001b[0m \u001b[1;32mdel\u001b[0m \u001b[0mdict1\u001b[0m\u001b[1;33m\u001b[0m\u001b[1;33m\u001b[0m\u001b[0m\n\u001b[1;32m----> 2\u001b[1;33m \u001b[0mdict1\u001b[0m\u001b[1;33m\u001b[0m\u001b[1;33m\u001b[0m\u001b[0m\n\u001b[0m",
      "\u001b[1;31mNameError\u001b[0m: name 'dict1' is not defined"
     ]
    }
   ],
   "source": [
    "del dict1\n",
    "dict1"
   ]
  },
  {
   "cell_type": "markdown",
   "id": "36339948",
   "metadata": {},
   "source": [
    "# LOOPS"
   ]
  },
  {
   "cell_type": "markdown",
   "id": "aa24168d",
   "metadata": {},
   "source": [
    "## While Loop:"
   ]
  },
  {
   "cell_type": "markdown",
   "id": "1bc58ebe",
   "metadata": {},
   "source": [
    "In python, while loop is uded to execute a block of statements repeatedly until a given a condition is satisfied. And when the condition becomes false, the line immediately after the loop in program is executed."
   ]
  },
  {
   "cell_type": "code",
   "execution_count": 12,
   "id": "694c2358",
   "metadata": {},
   "outputs": [
    {
     "name": "stdout",
     "output_type": "stream",
     "text": [
      "printing i value :  1\n",
      "printing i value :  2\n",
      "printing i value :  3\n",
      "printing i value :  4\n",
      "printing i value :  5\n"
     ]
    }
   ],
   "source": [
    "#Simple while loop causing infinite loop\n",
    "i = 1\n",
    "while i < 6:\n",
    "    print('printing i value : ', i)\n",
    "    i+=1\n",
    "    # counter increment is important as it will cause infinite loop"
   ]
  },
  {
   "cell_type": "code",
   "execution_count": 14,
   "id": "d1735df1",
   "metadata": {},
   "outputs": [
    {
     "name": "stdout",
     "output_type": "stream",
     "text": [
      "Printing value of i :  1\n",
      "Printing value of i :  2\n",
      "Printing value of i :  3\n"
     ]
    }
   ],
   "source": [
    "#While loop with break condition. It is used to stop loop even if while condition is true\n",
    "\n",
    "i = 1\n",
    "while i<6:\n",
    "    print('Printing value of i : ', i)\n",
    "    if i==3:\n",
    "        break\n",
    "    i+=1"
   ]
  },
  {
   "cell_type": "code",
   "execution_count": 15,
   "id": "a548ed1e",
   "metadata": {},
   "outputs": [
    {
     "name": "stdout",
     "output_type": "stream",
     "text": [
      "1\n",
      "2\n",
      "4\n",
      "5\n",
      "6\n"
     ]
    }
   ],
   "source": [
    "# While loop with continue statement.\n",
    "i = 0\n",
    "while i<6:\n",
    "    i+=1\n",
    "    if i==3:\n",
    "        continue\n",
    "        \n",
    "    print(i)"
   ]
  },
  {
   "cell_type": "code",
   "execution_count": 16,
   "id": "2b69dfb9",
   "metadata": {},
   "outputs": [
    {
     "name": "stdout",
     "output_type": "stream",
     "text": [
      "1\n",
      "2\n",
      "3\n",
      "4\n",
      "5\n",
      "While loop condition is false\n"
     ]
    }
   ],
   "source": [
    "# While loop with else statement\n",
    "i=1\n",
    "while i<6:\n",
    "    print(i)\n",
    "    i+= 1\n",
    "else:\n",
    "    print('While loop condition is false')"
   ]
  },
  {
   "cell_type": "code",
   "execution_count": 17,
   "id": "f2bed915",
   "metadata": {},
   "outputs": [
    {
     "name": "stdout",
     "output_type": "stream",
     "text": [
      "Data Science\n",
      "Data Science\n",
      "Data Science\n"
     ]
    }
   ],
   "source": [
    "count= 0\n",
    "while (count < 3):\n",
    "    count = count +1\n",
    "    print(\"Data Science\")"
   ]
  },
  {
   "cell_type": "code",
   "execution_count": 18,
   "id": "2e036d7b",
   "metadata": {},
   "outputs": [
    {
     "name": "stdout",
     "output_type": "stream",
     "text": [
      "Hello\n"
     ]
    }
   ],
   "source": [
    "count= 2\n",
    "while (count < 3):\n",
    "    count = count +1\n",
    "    print(\"Hello\")"
   ]
  },
  {
   "cell_type": "markdown",
   "id": "e8676cf4",
   "metadata": {},
   "source": [
    "## FOR LOOP"
   ]
  },
  {
   "cell_type": "markdown",
   "id": "71be6f18",
   "metadata": {},
   "source": [
    "Python for loops are used through an iterable object (like a list, tuple, set, etc.) and perform the action for each entry"
   ]
  },
  {
   "cell_type": "code",
   "execution_count": 20,
   "id": "6ac5c25b",
   "metadata": {},
   "outputs": [
    {
     "name": "stdout",
     "output_type": "stream",
     "text": [
      "1\n",
      "2\n",
      "3\n",
      "4\n",
      "5\n",
      "6\n",
      "7\n",
      "8\n",
      "9\n",
      "0\n",
      "12\n",
      "34\n",
      "55\n"
     ]
    }
   ],
   "source": [
    "l = [1,2,3,4,5,6,7,8,9,0,12,34,55]\n",
    "for  i in l:\n",
    "    print(i)"
   ]
  },
  {
   "cell_type": "code",
   "execution_count": 21,
   "id": "d1648c4e",
   "metadata": {},
   "outputs": [
    {
     "name": "stdout",
     "output_type": "stream",
     "text": [
      "apple\n",
      "banana\n",
      "mango\n",
      "watermelon\n"
     ]
    }
   ],
   "source": [
    "fruits = ['apple', 'banana', 'mango', 'watermelon']\n",
    "for i in fruits:\n",
    "    print(i)"
   ]
  },
  {
   "cell_type": "code",
   "execution_count": 24,
   "id": "8ce8511d",
   "metadata": {},
   "outputs": [
    {
     "name": "stdout",
     "output_type": "stream",
     "text": [
      "T\n",
      "h\n",
      "i\n",
      "s\n",
      " \n",
      "i\n",
      "s\n",
      " \n",
      "d\n",
      "a\n",
      "t\n",
      "a\n",
      " \n",
      "s\n",
      "c\n",
      "i\n",
      "e\n",
      "n\n",
      "c\n",
      "e\n",
      " \n",
      "c\n",
      "o\n",
      "u\n",
      "r\n",
      "s\n",
      "e\n"
     ]
    }
   ],
   "source": [
    "s = 'This is data science course'\n",
    "for i in s:\n",
    "    print(i)"
   ]
  },
  {
   "cell_type": "markdown",
   "id": "9900647a",
   "metadata": {},
   "source": [
    "#### Range function"
   ]
  },
  {
   "cell_type": "code",
   "execution_count": 28,
   "id": "7d39c106",
   "metadata": {},
   "outputs": [
    {
     "name": "stdout",
     "output_type": "stream",
     "text": [
      "1\n",
      "2\n",
      "3\n",
      "4\n",
      "5\n",
      "6\n",
      "7\n",
      "8\n",
      "9\n"
     ]
    }
   ],
   "source": [
    "for i in range(1,10):   #Range is a generator function which yields number form given starting and end point\n",
    "    print(i)"
   ]
  },
  {
   "cell_type": "code",
   "execution_count": 26,
   "id": "61a57f73",
   "metadata": {},
   "outputs": [
    {
     "name": "stdout",
     "output_type": "stream",
     "text": [
      "0\n",
      "1\n",
      "2\n",
      "3\n",
      "4\n"
     ]
    }
   ],
   "source": [
    "for i in range(5):   #Numbers will get generated from 0 and it will go till 4\n",
    "    print(i)"
   ]
  },
  {
   "cell_type": "code",
   "execution_count": 27,
   "id": "8059c53c",
   "metadata": {},
   "outputs": [
    {
     "name": "stdout",
     "output_type": "stream",
     "text": [
      "0\n",
      "2\n",
      "4\n",
      "6\n",
      "8\n",
      "10\n",
      "12\n",
      "14\n",
      "16\n",
      "18\n"
     ]
    }
   ],
   "source": [
    "for i in range(0,20,2):\n",
    "    print(i)"
   ]
  },
  {
   "cell_type": "markdown",
   "id": "50aaf565",
   "metadata": {},
   "source": [
    "### Nested loops"
   ]
  },
  {
   "cell_type": "code",
   "execution_count": 37,
   "id": "5e50b6e6",
   "metadata": {},
   "outputs": [],
   "source": [
    "loop1= ['Maths', 'Science', 'Geo', 'Eco', 'Social']\n",
    "loop2= [78,90,70,56,90]"
   ]
  },
  {
   "cell_type": "code",
   "execution_count": 39,
   "id": "111d7428",
   "metadata": {},
   "outputs": [
    {
     "name": "stdout",
     "output_type": "stream",
     "text": [
      "Maths 78\n",
      "Maths 90\n",
      "Maths 70\n",
      "Maths 56\n",
      "Maths 90\n",
      "Science 78\n",
      "Science 90\n",
      "Science 70\n",
      "Science 56\n",
      "Science 90\n",
      "Geo 78\n",
      "Geo 90\n",
      "Geo 70\n",
      "Geo 56\n",
      "Geo 90\n",
      "Eco 78\n",
      "Eco 90\n",
      "Eco 70\n",
      "Eco 56\n",
      "Eco 90\n",
      "Social 78\n",
      "Social 90\n",
      "Social 70\n",
      "Social 56\n",
      "Social 90\n"
     ]
    }
   ],
   "source": [
    "for i in loop1:    #Outer loop\n",
    "    for k in loop2:     #inner loop\n",
    "        print(i,k)"
   ]
  },
  {
   "cell_type": "code",
   "execution_count": 43,
   "id": "28f35725",
   "metadata": {},
   "outputs": [
    {
     "name": "stdout",
     "output_type": "stream",
     "text": [
      "red apple\n",
      "red banana\n",
      "red orange\n",
      "blue apple\n",
      "blue banana\n",
      "blue orange\n",
      "green apple\n",
      "green banana\n",
      "green orange\n"
     ]
    }
   ],
   "source": [
    "a = ['red', 'blue', 'green']\n",
    "b = ['apple', 'banana', 'orange']\n",
    "for i in a:\n",
    "    for h in b:\n",
    "        print(i,h)"
   ]
  },
  {
   "cell_type": "code",
   "execution_count": 47,
   "id": "1af328f4",
   "metadata": {},
   "outputs": [
    {
     "name": "stdout",
     "output_type": "stream",
     "text": [
      "odd\n",
      "even\n",
      "odd\n",
      "even\n",
      "odd\n",
      "even\n",
      "odd\n",
      "even\n",
      "odd\n"
     ]
    }
   ],
   "source": [
    "for c in l:\n",
    "    if(c%2==0):\n",
    "        print('even')\n",
    "    else:\n",
    "        print(\"odd\")"
   ]
  },
  {
   "cell_type": "code",
   "execution_count": 48,
   "id": "11853d66",
   "metadata": {},
   "outputs": [
    {
     "data": {
      "text/plain": [
       "[1, 2, 3, 4, 5, 6, 7, 8, 9]"
      ]
     },
     "execution_count": 48,
     "metadata": {},
     "output_type": "execute_result"
    }
   ],
   "source": [
    "l"
   ]
  },
  {
   "cell_type": "code",
   "execution_count": 53,
   "id": "fbf20e43",
   "metadata": {},
   "outputs": [
    {
     "name": "stdout",
     "output_type": "stream",
     "text": [
      "12 X 1 = 12\n",
      "12 X 2 = 24\n",
      "12 X 3 = 36\n",
      "12 X 4 = 48\n",
      "12 X 5 = 60\n",
      "12 X 6 = 72\n",
      "12 X 7 = 84\n",
      "12 X 8 = 96\n",
      "12 X 9 = 108\n",
      "12 X 10 = 120\n"
     ]
    }
   ],
   "source": [
    "# Write table of 12\n",
    "num = 12\n",
    "for i in range(1,11):\n",
    "    print(num, 'X',i, '=', num*i)"
   ]
  },
  {
   "cell_type": "code",
   "execution_count": 55,
   "id": "223e76b9",
   "metadata": {},
   "outputs": [
    {
     "name": "stdout",
     "output_type": "stream",
     "text": [
      "Current city :  bailur\n",
      "Current city :  bailhongal\n",
      "Current city :  Belagavi\n",
      "Gandu mettida nadu\n"
     ]
    }
   ],
   "source": [
    "city = ['bailur', 'bailhongal', 'Belagavi']\n",
    "for index in range(len(city)):\n",
    "    print('Current city : ', city[index])\n",
    "    \n",
    "print(\"Gandu mettida nadu\")"
   ]
  }
 ],
 "metadata": {
  "kernelspec": {
   "display_name": "Python 3 (ipykernel)",
   "language": "python",
   "name": "python3"
  },
  "language_info": {
   "codemirror_mode": {
    "name": "ipython",
    "version": 3
   },
   "file_extension": ".py",
   "mimetype": "text/x-python",
   "name": "python",
   "nbconvert_exporter": "python",
   "pygments_lexer": "ipython3",
   "version": "3.9.7"
  }
 },
 "nbformat": 4,
 "nbformat_minor": 5
}
