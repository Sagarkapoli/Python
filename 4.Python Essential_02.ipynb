{
 "cells": [
  {
   "cell_type": "markdown",
   "id": "39d325dd",
   "metadata": {},
   "source": [
    "# Function"
   ]
  },
  {
   "cell_type": "markdown",
   "id": "b7769c1a",
   "metadata": {},
   "source": [
    "a function is a block of organized code written to carry out a specified task.\n",
    "\n",
    "\n",
    "\n"
   ]
  },
  {
   "cell_type": "markdown",
   "id": "13c25d3b",
   "metadata": {},
   "source": [
    "## Parameter Vs Argument"
   ]
  },
  {
   "cell_type": "markdown",
   "id": "425f0147",
   "metadata": {},
   "source": [
    "a parameter is the variable listed inside the paranthesis in the function definition. \n"
   ]
  },
  {
   "cell_type": "code",
   "execution_count": 1,
   "id": "3cd71be3",
   "metadata": {},
   "outputs": [],
   "source": [
    "# Definition of function\n",
    "def name_of_function():\n",
    "    print('Hello')"
   ]
  },
  {
   "cell_type": "code",
   "execution_count": 2,
   "id": "dd48e4cf",
   "metadata": {},
   "outputs": [
    {
     "name": "stdout",
     "output_type": "stream",
     "text": [
      "Hello\n"
     ]
    }
   ],
   "source": [
    "#Calling the function\n",
    "name_of_function()"
   ]
  },
  {
   "cell_type": "code",
   "execution_count": 4,
   "id": "3aa3734e",
   "metadata": {},
   "outputs": [],
   "source": [
    "def noreturn():\n",
    "    pass"
   ]
  },
  {
   "cell_type": "code",
   "execution_count": 5,
   "id": "224f448d",
   "metadata": {},
   "outputs": [],
   "source": [
    "noreturn()"
   ]
  },
  {
   "cell_type": "code",
   "execution_count": 3,
   "id": "fd997405",
   "metadata": {},
   "outputs": [],
   "source": [
    "def area_of_circle(r):\n",
    "    area = 3.14*r*r\n",
    "    print(area)"
   ]
  },
  {
   "cell_type": "code",
   "execution_count": 6,
   "id": "d873c8c1",
   "metadata": {},
   "outputs": [
    {
     "name": "stdout",
     "output_type": "stream",
     "text": [
      "12.56\n"
     ]
    }
   ],
   "source": [
    "area_of_circle(2)"
   ]
  },
  {
   "cell_type": "code",
   "execution_count": 7,
   "id": "70c7adab",
   "metadata": {},
   "outputs": [
    {
     "name": "stdout",
     "output_type": "stream",
     "text": [
      "78.5\n"
     ]
    }
   ],
   "source": [
    "area_of_circle(5)"
   ]
  },
  {
   "cell_type": "code",
   "execution_count": 14,
   "id": "d57d01cc",
   "metadata": {},
   "outputs": [],
   "source": [
    "def area_of_circle():\n",
    "    r=float(input(\"Enter the value\"))\n",
    "    area = 3.14*r*r\n",
    "    print(area)"
   ]
  },
  {
   "cell_type": "code",
   "execution_count": 15,
   "id": "f88d4af2",
   "metadata": {},
   "outputs": [
    {
     "name": "stdout",
     "output_type": "stream",
     "text": [
      "Enter the value5\n",
      "78.5\n"
     ]
    }
   ],
   "source": [
    "area_of_circle()"
   ]
  },
  {
   "cell_type": "code",
   "execution_count": 16,
   "id": "11f1ad3f",
   "metadata": {},
   "outputs": [],
   "source": [
    "def rectangle(l,b):\n",
    "    area=l*b\n",
    "    print(area)"
   ]
  },
  {
   "cell_type": "code",
   "execution_count": 19,
   "id": "14557e75",
   "metadata": {},
   "outputs": [
    {
     "name": "stdout",
     "output_type": "stream",
     "text": [
      "6\n"
     ]
    }
   ],
   "source": [
    "a=rectangle(2,3)"
   ]
  },
  {
   "cell_type": "code",
   "execution_count": 20,
   "id": "6cac9cd8",
   "metadata": {},
   "outputs": [
    {
     "name": "stdout",
     "output_type": "stream",
     "text": [
      "None\n"
     ]
    }
   ],
   "source": [
    "print(a)"
   ]
  },
  {
   "cell_type": "code",
   "execution_count": 22,
   "id": "378d0d17",
   "metadata": {},
   "outputs": [],
   "source": [
    "def recta1(l,b):\n",
    "    area=l*b\n",
    "    return(area)"
   ]
  },
  {
   "cell_type": "code",
   "execution_count": 23,
   "id": "3ee20b97",
   "metadata": {},
   "outputs": [],
   "source": [
    "r = recta1(2,3)"
   ]
  },
  {
   "cell_type": "code",
   "execution_count": 24,
   "id": "d666353f",
   "metadata": {},
   "outputs": [
    {
     "name": "stdout",
     "output_type": "stream",
     "text": [
      "6\n"
     ]
    }
   ],
   "source": [
    "print(r)"
   ]
  },
  {
   "cell_type": "code",
   "execution_count": 41,
   "id": "297d22c2",
   "metadata": {},
   "outputs": [],
   "source": [
    "#task:- Write function to check whether given number is odd or even\n",
    "\n",
    "def even_odd():\n",
    "    num = int(input(\"Enter the value \"))\n",
    "    if num % 2 ==0:\n",
    "        print(\"Given number is Even \")\n",
    "    else:\n",
    "        print(\"Given number is odd \")"
   ]
  },
  {
   "cell_type": "code",
   "execution_count": 42,
   "id": "e80b1403",
   "metadata": {},
   "outputs": [
    {
     "name": "stdout",
     "output_type": "stream",
     "text": [
      "Enter the value 124\n",
      "Given number is Even \n"
     ]
    }
   ],
   "source": [
    "even_odd()"
   ]
  },
  {
   "cell_type": "markdown",
   "id": "b9dcb06e",
   "metadata": {},
   "source": [
    "## Lambda, Filter, Map"
   ]
  },
  {
   "cell_type": "markdown",
   "id": "ab32be80",
   "metadata": {},
   "source": [
    "## Lambda"
   ]
  },
  {
   "cell_type": "markdown",
   "id": "e8c127ae",
   "metadata": {},
   "source": [
    "* 1) Lambda function is a ananymous function(function without a name).\n",
    "* 2) Lambda function can have any number of arguments but only one expression"
   ]
  },
  {
   "cell_type": "code",
   "execution_count": 43,
   "id": "001eacda",
   "metadata": {},
   "outputs": [],
   "source": [
    "def addition(a):\n",
    "    b=a+10\n",
    "    return(b)"
   ]
  },
  {
   "cell_type": "code",
   "execution_count": 44,
   "id": "8c9cbbac",
   "metadata": {},
   "outputs": [
    {
     "data": {
      "text/plain": [
       "15"
      ]
     },
     "execution_count": 44,
     "metadata": {},
     "output_type": "execute_result"
    }
   ],
   "source": [
    "addition(5)"
   ]
  },
  {
   "cell_type": "code",
   "execution_count": 45,
   "id": "99a59424",
   "metadata": {},
   "outputs": [
    {
     "data": {
      "text/plain": [
       "13"
      ]
     },
     "execution_count": 45,
     "metadata": {},
     "output_type": "execute_result"
    }
   ],
   "source": [
    "addition = lambda a:a+10       #This lambda function adds value 10 to an argument\n",
    "addition(3)"
   ]
  },
  {
   "cell_type": "code",
   "execution_count": 46,
   "id": "b35c3102",
   "metadata": {},
   "outputs": [
    {
     "data": {
      "text/plain": [
       "25"
      ]
     },
     "execution_count": 46,
     "metadata": {},
     "output_type": "execute_result"
    }
   ],
   "source": [
    "addition = lambda b:b+15\n",
    "addition(10)"
   ]
  },
  {
   "cell_type": "code",
   "execution_count": 48,
   "id": "e11658bd",
   "metadata": {},
   "outputs": [
    {
     "name": "stdout",
     "output_type": "stream",
     "text": [
      "30\n"
     ]
    }
   ],
   "source": [
    "product = lambda a,b : a*b      #This lambda function takes 2 arguments (a,b) and do the multiplication\n",
    "print(product(5,6))"
   ]
  },
  {
   "cell_type": "code",
   "execution_count": 49,
   "id": "41cb3bf5",
   "metadata": {},
   "outputs": [],
   "source": [
    "res = (lambda * args : sum(args))    "
   ]
  },
  {
   "cell_type": "code",
   "execution_count": 50,
   "id": "0bd1ebe9",
   "metadata": {},
   "outputs": [
    {
     "data": {
      "text/plain": [
       "114"
      ]
     },
     "execution_count": 50,
     "metadata": {},
     "output_type": "execute_result"
    }
   ],
   "source": [
    "res(12,23,34,45)"
   ]
  },
  {
   "cell_type": "markdown",
   "id": "994d8ec7",
   "metadata": {},
   "source": [
    "## Filter Function"
   ]
  },
  {
   "cell_type": "markdown",
   "id": "6c7ef612",
   "metadata": {},
   "source": [
    "is is used to filter the iterable/sequence as per the condition"
   ]
  },
  {
   "cell_type": "markdown",
   "id": "5b8d6b07",
   "metadata": {},
   "source": []
  },
  {
   "cell_type": "code",
   "execution_count": 55,
   "id": "031b3151",
   "metadata": {},
   "outputs": [],
   "source": [
    "list1 = [1,2,3,4,5,6,7,8,9]\n",
    "\n",
    "def odd(n):\n",
    "    if n%2 == 1:\n",
    "        print(\"odd number is \", n)\n",
    "    else:\n",
    "        print(\"No\")"
   ]
  },
  {
   "cell_type": "code",
   "execution_count": 56,
   "id": "961064b5",
   "metadata": {},
   "outputs": [
    {
     "name": "stdout",
     "output_type": "stream",
     "text": [
      "odd number is  1\n",
      "No\n",
      "odd number is  3\n",
      "No\n",
      "odd number is  5\n",
      "No\n",
      "odd number is  7\n",
      "No\n",
      "odd number is  9\n"
     ]
    },
    {
     "data": {
      "text/plain": [
       "[]"
      ]
     },
     "execution_count": 56,
     "metadata": {},
     "output_type": "execute_result"
    }
   ],
   "source": [
    "odd_num = list(filter(odd,list1))\n",
    "odd_num"
   ]
  },
  {
   "cell_type": "markdown",
   "id": "2de8fa09",
   "metadata": {},
   "source": [
    "## Map Function"
   ]
  },
  {
   "cell_type": "code",
   "execution_count": 57,
   "id": "2e926bd9",
   "metadata": {},
   "outputs": [
    {
     "data": {
      "text/plain": [
       "[]"
      ]
     },
     "execution_count": 57,
     "metadata": {},
     "output_type": "execute_result"
    }
   ],
   "source": [
    "def twice(n):\n",
    "    return n*2\n",
    "\n",
    "doubles = list(map(twice, odd_num))    #The map function will apply user defined twice function\n",
    "doubles"
   ]
  }
 ],
 "metadata": {
  "kernelspec": {
   "display_name": "Python 3 (ipykernel)",
   "language": "python",
   "name": "python3"
  },
  "language_info": {
   "codemirror_mode": {
    "name": "ipython",
    "version": 3
   },
   "file_extension": ".py",
   "mimetype": "text/x-python",
   "name": "python",
   "nbconvert_exporter": "python",
   "pygments_lexer": "ipython3",
   "version": "3.9.7"
  }
 },
 "nbformat": 4,
 "nbformat_minor": 5
}
