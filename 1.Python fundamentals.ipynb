{
 "cells": [
  {
   "cell_type": "code",
   "execution_count": 2,
   "id": "7a593811",
   "metadata": {},
   "outputs": [],
   "source": [
    "import sys\n",
    "import keyword\n",
    "import operator\n",
    "from datetime import datetime\n",
    "import os"
   ]
  },
  {
   "cell_type": "markdown",
   "id": "975e8051",
   "metadata": {},
   "source": [
    "# Keywords"
   ]
  },
  {
   "cell_type": "markdown",
   "id": "156dca9f",
   "metadata": {},
   "source": [
    "* keywords in python are reserved words in python and can't be used as identifiers "
   ]
  },
  {
   "cell_type": "code",
   "execution_count": 4,
   "id": "cb52b0d6",
   "metadata": {},
   "outputs": [
    {
     "name": "stdout",
     "output_type": "stream",
     "text": [
      "['False', 'None', 'True', '__peg_parser__', 'and', 'as', 'assert', 'async', 'await', 'break', 'class', 'continue', 'def', 'del', 'elif', 'else', 'except', 'finally', 'for', 'from', 'global', 'if', 'import', 'in', 'is', 'lambda', 'nonlocal', 'not', 'or', 'pass', 'raise', 'return', 'try', 'while', 'with', 'yield']\n"
     ]
    }
   ],
   "source": [
    "#list of keywords\n",
    "print(keyword.kwlist)"
   ]
  },
  {
   "cell_type": "code",
   "execution_count": 8,
   "id": "1e6e64b3",
   "metadata": {},
   "outputs": [
    {
     "data": {
      "text/plain": [
       "36"
      ]
     },
     "execution_count": 8,
     "metadata": {},
     "output_type": "execute_result"
    }
   ],
   "source": [
    "len(keyword.kwlist)"
   ]
  },
  {
   "cell_type": "markdown",
   "id": "0cb87d03",
   "metadata": {},
   "source": [
    "# Identifiers"
   ]
  },
  {
   "cell_type": "markdown",
   "id": "0fe6536d",
   "metadata": {},
   "source": [
    "* An identifier is the name given to entities like functions, variables etc. it helps in differentiating one entity from other."
   ]
  },
  {
   "cell_type": "code",
   "execution_count": 10,
   "id": "c83ba719",
   "metadata": {},
   "outputs": [
    {
     "ename": "SyntaxError",
     "evalue": "invalid syntax (Temp/ipykernel_14100/520403347.py, line 3)",
     "output_type": "error",
     "traceback": [
      "\u001b[1;36m  File \u001b[1;32m\"C:\\Users\\sagar\\AppData\\Local\\Temp/ipykernel_14100/520403347.py\"\u001b[1;36m, line \u001b[1;32m3\u001b[0m\n\u001b[1;33m    2shsy = 32\u001b[0m\n\u001b[1;37m     ^\u001b[0m\n\u001b[1;31mSyntaxError\u001b[0m\u001b[1;31m:\u001b[0m invalid syntax\n"
     ]
    }
   ],
   "source": [
    "#identifier can not be initiate with digit\n",
    "\n",
    "2shsy = 32"
   ]
  },
  {
   "cell_type": "code",
   "execution_count": 11,
   "id": "2eb5c0d2",
   "metadata": {},
   "outputs": [
    {
     "ename": "SyntaxError",
     "evalue": "cannot assign to operator (Temp/ipykernel_14100/877159895.py, line 2)",
     "output_type": "error",
     "traceback": [
      "\u001b[1;36m  File \u001b[1;32m\"C:\\Users\\sagar\\AppData\\Local\\Temp/ipykernel_14100/877159895.py\"\u001b[1;36m, line \u001b[1;32m2\u001b[0m\n\u001b[1;33m    var@234=\"abe\"\u001b[0m\n\u001b[1;37m    ^\u001b[0m\n\u001b[1;31mSyntaxError\u001b[0m\u001b[1;31m:\u001b[0m cannot assign to operator\n"
     ]
    }
   ],
   "source": [
    "#identifiers cannot use special symbol\n",
    "var@234=\"abe\""
   ]
  },
  {
   "cell_type": "code",
   "execution_count": 12,
   "id": "3036c503",
   "metadata": {},
   "outputs": [
    {
     "ename": "SyntaxError",
     "evalue": "invalid syntax (Temp/ipykernel_14100/798815562.py, line 2)",
     "output_type": "error",
     "traceback": [
      "\u001b[1;36m  File \u001b[1;32m\"C:\\Users\\sagar\\AppData\\Local\\Temp/ipykernel_14100/798815562.py\"\u001b[1;36m, line \u001b[1;32m2\u001b[0m\n\u001b[1;33m    import=123\u001b[0m\n\u001b[1;37m          ^\u001b[0m\n\u001b[1;31mSyntaxError\u001b[0m\u001b[1;31m:\u001b[0m invalid syntax\n"
     ]
    }
   ],
   "source": [
    "#keywords cannot be used as identifier\n",
    "import=123 "
   ]
  },
  {
   "cell_type": "code",
   "execution_count": null,
   "id": "54b9fab7",
   "metadata": {},
   "outputs": [],
   "source": [
    "\"\"\"\"\"\n",
    "correct way of defining an identifier\n",
    "(identifiers can be a combination of leters in lowercase (a to z) or uppercase and only special character allowed is _ \"\"\")\n",
    "\n",
    "\n",
    "var=2\n",
    "#var is entity called as variable has been assigned with value of 2"
   ]
  },
  {
   "cell_type": "code",
   "execution_count": 13,
   "id": "20d1d304",
   "metadata": {},
   "outputs": [],
   "source": [
    "VAR = 3"
   ]
  },
  {
   "cell_type": "code",
   "execution_count": 14,
   "id": "61b19ed2",
   "metadata": {},
   "outputs": [],
   "source": [
    "var_12 = \"Data\""
   ]
  },
  {
   "cell_type": "markdown",
   "id": "bc8d2fed",
   "metadata": {},
   "source": [
    "# Comments"
   ]
  },
  {
   "cell_type": "markdown",
   "id": "18e6eaee",
   "metadata": {},
   "source": [
    "* comments can be used to explain the code for more readability"
   ]
  },
  {
   "cell_type": "code",
   "execution_count": 15,
   "id": "a54717cd",
   "metadata": {},
   "outputs": [],
   "source": [
    "#single line comment\n",
    "val1 = 10"
   ]
  },
  {
   "cell_type": "code",
   "execution_count": 16,
   "id": "2712a432",
   "metadata": {},
   "outputs": [],
   "source": [
    "#multiple\n",
    "#line\n",
    "#comment\n",
    "val1 = 10"
   ]
  },
  {
   "cell_type": "code",
   "execution_count": 17,
   "id": "9cf31ee1",
   "metadata": {},
   "outputs": [],
   "source": [
    "'''\n",
    "multiple line\n",
    "comment'''\n",
    "val1 = 10"
   ]
  },
  {
   "cell_type": "markdown",
   "id": "1966134f",
   "metadata": {},
   "source": [
    "* instruction that a python interpreter can execute."
   ]
  },
  {
   "cell_type": "code",
   "execution_count": 2,
   "id": "8d292505",
   "metadata": {},
   "outputs": [
    {
     "data": {
      "text/plain": [
       "['a', 'b', 'c', 'd']"
      ]
     },
     "execution_count": 2,
     "metadata": {},
     "output_type": "execute_result"
    }
   ],
   "source": [
    "#single line statement\n",
    "p2 = [\"a\", \"b\", \"c\", \"d\"]\n",
    "p2"
   ]
  },
  {
   "cell_type": "code",
   "execution_count": 9,
   "id": "a2d5a2ed",
   "metadata": {},
   "outputs": [
    {
     "name": "stdout",
     "output_type": "stream",
     "text": [
      "[1, 2, 3]\n",
      "[4, 5, 6]\n",
      "[5, 6, 7]\n"
     ]
    }
   ],
   "source": [
    "a= [1,2,3]\n",
    "b= [4,5,6]\n",
    "c= [5,6,7]\n",
    "print(a)\n",
    "print(b)\n",
    "print(c)"
   ]
  },
  {
   "cell_type": "code",
   "execution_count": 9,
   "id": "15336bb4",
   "metadata": {},
   "outputs": [
    {
     "data": {
      "text/plain": [
       "290"
      ]
     },
     "execution_count": 9,
     "metadata": {},
     "output_type": "execute_result"
    }
   ],
   "source": [
    "#Multiple line statement\n",
    "p1 = 20 + 30 \\\n",
    "+ 40 + 50 + \\\n",
    "+ 70 + 80\n",
    "p1"
   ]
  },
  {
   "cell_type": "markdown",
   "id": "fa9e1fea",
   "metadata": {},
   "source": [
    "# Indentation"
   ]
  },
  {
   "cell_type": "markdown",
   "id": "22c223ab",
   "metadata": {},
   "source": [
    "* indentation refers to the spaces at the beginning of a code line. it is very important as a python uses indentation to indicate a block of code. If the indentation is not correct we will endup with indentationError error"
   ]
  },
  {
   "cell_type": "code",
   "execution_count": 17,
   "id": "35e153a1",
   "metadata": {},
   "outputs": [
    {
     "ename": "IndentationError",
     "evalue": "expected an indented block (Temp/ipykernel_9260/3881222274.py, line 4)",
     "output_type": "error",
     "traceback": [
      "\u001b[1;36m  File \u001b[1;32m\"C:\\Users\\sagar\\AppData\\Local\\Temp/ipykernel_9260/3881222274.py\"\u001b[1;36m, line \u001b[1;32m4\u001b[0m\n\u001b[1;33m    print(\"p is equal to 10\")\u001b[0m\n\u001b[1;37m    ^\u001b[0m\n\u001b[1;31mIndentationError\u001b[0m\u001b[1;31m:\u001b[0m expected an indented block\n"
     ]
    }
   ],
   "source": [
    "#if indentation is skipped we will encounter \"IndentationError:\" expected an ind\n",
    "p =10\n",
    "if p == 10:\n",
    "print(\"p is equal to 10\")"
   ]
  },
  {
   "cell_type": "code",
   "execution_count": 6,
   "id": "3110b19e",
   "metadata": {},
   "outputs": [
    {
     "name": "stdout",
     "output_type": "stream",
     "text": [
      "Indentation is correct\n"
     ]
    }
   ],
   "source": [
    "p =10\n",
    "if p == 10:\n",
    "    print(\"Indentation is correct\")"
   ]
  },
  {
   "cell_type": "markdown",
   "id": "606d2474",
   "metadata": {},
   "source": [
    "# Docstrings"
   ]
  },
  {
   "cell_type": "markdown",
   "id": "5670539d",
   "metadata": {},
   "source": [
    "1) Docstring provide a convenient way of associating documentation with functions, classes, methods or modules.\\\n",
    "2) they appear right after the definition of a function, method, class or module."
   ]
  },
  {
   "cell_type": "code",
   "execution_count": 21,
   "id": "ffa684d8",
   "metadata": {},
   "outputs": [],
   "source": [
    "def square(num):\n",
    "    '''square Function :- This funtion will return return the square of the number'''\n",
    "    return num**2"
   ]
  },
  {
   "cell_type": "code",
   "execution_count": null,
   "id": "dd7d08fa",
   "metadata": {},
   "outputs": [],
   "source": [
    "print()"
   ]
  },
  {
   "cell_type": "code",
   "execution_count": 8,
   "id": "9ec0f87c",
   "metadata": {},
   "outputs": [
    {
     "data": {
      "text/plain": [
       "25"
      ]
     },
     "execution_count": 8,
     "metadata": {},
     "output_type": "execute_result"
    }
   ],
   "source": [
    "square(5)"
   ]
  },
  {
   "cell_type": "code",
   "execution_count": 10,
   "id": "b86f9b8b",
   "metadata": {},
   "outputs": [
    {
     "name": "stdout",
     "output_type": "stream",
     "text": [
      "square Function :- This funtion will return return the square of the number\n"
     ]
    }
   ],
   "source": [
    "#We can access the Docstring using Doc method\n",
    "print(square.__doc__)"
   ]
  },
  {
   "cell_type": "code",
   "execution_count": 11,
   "id": "a42b96b4",
   "metadata": {},
   "outputs": [
    {
     "name": "stdout",
     "output_type": "stream",
     "text": [
      "Help on function square in module __main__:\n",
      "\n",
      "square(num)\n",
      "    square Function :- This funtion will return return the square of the number\n",
      "\n"
     ]
    }
   ],
   "source": [
    "help(square)"
   ]
  }
 ],
 "metadata": {
  "kernelspec": {
   "display_name": "Python 3 (ipykernel)",
   "language": "python",
   "name": "python3"
  },
  "language_info": {
   "codemirror_mode": {
    "name": "ipython",
    "version": 3
   },
   "file_extension": ".py",
   "mimetype": "text/x-python",
   "name": "python",
   "nbconvert_exporter": "python",
   "pygments_lexer": "ipython3",
   "version": "3.9.7"
  }
 },
 "nbformat": 4,
 "nbformat_minor": 5
}
