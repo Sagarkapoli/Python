{
 "cells": [
  {
   "cell_type": "code",
   "execution_count": 27,
   "id": "28c414d3",
   "metadata": {},
   "outputs": [],
   "source": [
    "import sys"
   ]
  },
  {
   "cell_type": "markdown",
   "id": "5eeebcfc",
   "metadata": {},
   "source": [
    "# Variables"
   ]
  },
  {
   "cell_type": "markdown",
   "id": "332f2a23",
   "metadata": {},
   "source": [
    "* A python variable is a reserved memory location to store values. A variable is created the moment you first assign a value to it."
   ]
  },
  {
   "cell_type": "code",
   "execution_count": 1,
   "id": "c5a8c508",
   "metadata": {},
   "outputs": [],
   "source": [
    "p = 30"
   ]
  },
  {
   "cell_type": "code",
   "execution_count": 2,
   "id": "dc90b5e8",
   "metadata": {},
   "outputs": [],
   "source": [
    "a = 4  #create a variable a and assign the value 4."
   ]
  },
  {
   "cell_type": "code",
   "execution_count": 3,
   "id": "a63b967f",
   "metadata": {},
   "outputs": [
    {
     "data": {
      "text/plain": [
       "4"
      ]
     },
     "execution_count": 3,
     "metadata": {},
     "output_type": "execute_result"
    }
   ],
   "source": [
    "a   #This is how we call variable"
   ]
  },
  {
   "cell_type": "markdown",
   "id": "d7fd3f2f",
   "metadata": {},
   "source": [
    "# Functions"
   ]
  },
  {
   "cell_type": "code",
   "execution_count": 7,
   "id": "0ac8afac",
   "metadata": {},
   "outputs": [
    {
     "name": "stdout",
     "output_type": "stream",
     "text": [
      "4\n"
     ]
    }
   ],
   "source": [
    "#print function is used to print the outputs\n",
    "print(a)"
   ]
  },
  {
   "cell_type": "code",
   "execution_count": 8,
   "id": "ad2feeac",
   "metadata": {},
   "outputs": [
    {
     "name": "stdout",
     "output_type": "stream",
     "text": [
      "This is print function\n"
     ]
    }
   ],
   "source": [
    "print(\"This is print function\")"
   ]
  },
  {
   "cell_type": "code",
   "execution_count": 9,
   "id": "39d83c0b",
   "metadata": {},
   "outputs": [
    {
     "data": {
      "text/plain": [
       "int"
      ]
     },
     "execution_count": 9,
     "metadata": {},
     "output_type": "execute_result"
    }
   ],
   "source": [
    "#To know the data type of python object\n",
    "type(a)"
   ]
  },
  {
   "cell_type": "code",
   "execution_count": 6,
   "id": "53f8bafd",
   "metadata": {},
   "outputs": [
    {
     "data": {
      "text/plain": [
       "2632516857040"
      ]
     },
     "execution_count": 6,
     "metadata": {},
     "output_type": "execute_result"
    }
   ],
   "source": [
    "'''\n",
    "id() function returns the \"identity\" of the object.\n",
    "The identity of an object - Is an integer\n",
    " - Guranteed to be unique\n",
    " - Constant for this object during its lifetime.\n",
    "'''\n",
    "id(p)"
   ]
  },
  {
   "cell_type": "code",
   "execution_count": 10,
   "id": "fb5dc64a",
   "metadata": {},
   "outputs": [
    {
     "data": {
      "text/plain": [
       "'0x264ee3b6cd0'"
      ]
     },
     "execution_count": 10,
     "metadata": {},
     "output_type": "execute_result"
    }
   ],
   "source": [
    "#Memory address of the variable\n",
    "hex(id(p))"
   ]
  },
  {
   "cell_type": "code",
   "execution_count": 11,
   "id": "2d4ae396",
   "metadata": {},
   "outputs": [],
   "source": [
    "p = 20\n",
    "q = 20\n",
    "r = q"
   ]
  },
  {
   "cell_type": "code",
   "execution_count": 12,
   "id": "38362942",
   "metadata": {},
   "outputs": [
    {
     "data": {
      "text/plain": [
       "(int, '0x264ee3b6b90')"
      ]
     },
     "execution_count": 12,
     "metadata": {},
     "output_type": "execute_result"
    }
   ],
   "source": [
    "type(p), hex(id(p))"
   ]
  },
  {
   "cell_type": "code",
   "execution_count": 19,
   "id": "c3967d2e",
   "metadata": {},
   "outputs": [
    {
     "data": {
      "text/plain": [
       "(int, '0x264ee3b6b90')"
      ]
     },
     "execution_count": 19,
     "metadata": {},
     "output_type": "execute_result"
    }
   ],
   "source": [
    "type(q), hex(id(q))"
   ]
  },
  {
   "cell_type": "code",
   "execution_count": 20,
   "id": "d6993884",
   "metadata": {},
   "outputs": [
    {
     "data": {
      "text/plain": [
       "(20, int, '0x264ee3b6b90')"
      ]
     },
     "execution_count": 20,
     "metadata": {},
     "output_type": "execute_result"
    }
   ],
   "source": [
    " r, type(r), hex(id(r))"
   ]
  },
  {
   "cell_type": "markdown",
   "id": "c27f729e",
   "metadata": {},
   "source": [
    "### Variable Assignment"
   ]
  },
  {
   "cell_type": "code",
   "execution_count": 21,
   "id": "d9b45415",
   "metadata": {},
   "outputs": [
    {
     "name": "stdout",
     "output_type": "stream",
     "text": [
      "10\n",
      "2.57\n",
      "Python Language\n"
     ]
    }
   ],
   "source": [
    "intvar = 10    # integer variable\n",
    "floatvar = 2.57  #float variable\n",
    "strvar = \"Python Language\"   # String variable\n",
    "print(intvar)\n",
    "print(floatvar)\n",
    "print(strvar)"
   ]
  },
  {
   "cell_type": "markdown",
   "id": "e453d54a",
   "metadata": {},
   "source": [
    "### Multiple Assignment"
   ]
  },
  {
   "cell_type": "code",
   "execution_count": 22,
   "id": "8b43811e",
   "metadata": {},
   "outputs": [
    {
     "name": "stdout",
     "output_type": "stream",
     "text": [
      "10\n",
      "2.57\n",
      "Python Language\n"
     ]
    }
   ],
   "source": [
    "#using commas to saperate variables\n",
    "intvar, floatvar, strvar = 10,2.57,\"Python Language\"\n",
    "print(intvar)\n",
    "print(floatvar)\n",
    "print(strvar)"
   ]
  },
  {
   "cell_type": "code",
   "execution_count": 23,
   "id": "54c608cb",
   "metadata": {},
   "outputs": [
    {
     "name": "stdout",
     "output_type": "stream",
     "text": [
      "10 2.57 Python Language\n"
     ]
    }
   ],
   "source": [
    "print(intvar, floatvar, strvar)"
   ]
  },
  {
   "cell_type": "code",
   "execution_count": 26,
   "id": "14c141fb",
   "metadata": {},
   "outputs": [
    {
     "name": "stdout",
     "output_type": "stream",
     "text": [
      "44 44 44 44\n"
     ]
    }
   ],
   "source": [
    "# All variables poinint to same value\n",
    "p1 = p2 = p3 = p4 = 44\n",
    "print(p1,p2,p3,p4)"
   ]
  },
  {
   "cell_type": "markdown",
   "id": "94b3828c",
   "metadata": {},
   "source": [
    "# Data Types"
   ]
  },
  {
   "cell_type": "code",
   "execution_count": 28,
   "id": "fb126313",
   "metadata": {},
   "outputs": [
    {
     "name": "stdout",
     "output_type": "stream",
     "text": [
      "10\n",
      "<class 'int'>\n",
      "28\n",
      "10 Is integer? True\n"
     ]
    }
   ],
   "source": [
    "val1 = 10 #integer data type\n",
    "print(val1)\n",
    "print(type(val1)) #type of oject\n",
    "print(sys.getsizeof(val1)) #size of integer object in bytes\n",
    "print(val1,\"Is integer?\", isinstance(val1, int)) #val1 is an instance of int datatype"
   ]
  },
  {
   "cell_type": "code",
   "execution_count": 29,
   "id": "d67106fb",
   "metadata": {},
   "outputs": [
    {
     "name": "stdout",
     "output_type": "stream",
     "text": [
      "69.7\n",
      "<class 'float'>\n",
      "24\n",
      "10 Is float? True\n"
     ]
    }
   ],
   "source": [
    "val2 = 69.70 #float data type\n",
    "print(val2)\n",
    "print(type(val2)) #data_type of oject\n",
    "print(sys.getsizeof(val2)) #size of float object in bytes\n",
    "print(val1,\"Is float?\", isinstance(val2, float)) #val2 is an instance of int datatype"
   ]
  },
  {
   "cell_type": "code",
   "execution_count": 32,
   "id": "7f795e0a",
   "metadata": {},
   "outputs": [
    {
     "name": "stdout",
     "output_type": "stream",
     "text": [
      "(25+10j)\n",
      "<class 'complex'>\n",
      "32\n",
      "(25+10j) Is complex? True\n"
     ]
    }
   ],
   "source": [
    "val3 = 25 + 10j #float data type\n",
    "print(val3)\n",
    "print(type(val3)) #data_type of oject\n",
    "print(sys.getsizeof(val3)) #size of object in bytes\n",
    "print(val3,\"Is complex?\", isinstance(val3, complex)) #val3 is an instance of complex datatype"
   ]
  },
  {
   "cell_type": "markdown",
   "id": "df303498",
   "metadata": {},
   "source": [
    "# Boolean"
   ]
  },
  {
   "cell_type": "markdown",
   "id": "b4987413",
   "metadata": {},
   "source": [
    "* Boolean data type can only have two possible values True or False"
   ]
  },
  {
   "cell_type": "code",
   "execution_count": 34,
   "id": "72a5fe39",
   "metadata": {},
   "outputs": [],
   "source": [
    "bool1 = True"
   ]
  },
  {
   "cell_type": "code",
   "execution_count": 35,
   "id": "b28f3c2d",
   "metadata": {},
   "outputs": [],
   "source": [
    "bool2 = False"
   ]
  },
  {
   "cell_type": "code",
   "execution_count": 36,
   "id": "9978fade",
   "metadata": {},
   "outputs": [
    {
     "data": {
      "text/plain": [
       "bool"
      ]
     },
     "execution_count": 36,
     "metadata": {},
     "output_type": "execute_result"
    }
   ],
   "source": [
    "type(bool1)"
   ]
  },
  {
   "cell_type": "code",
   "execution_count": 38,
   "id": "28c73d5c",
   "metadata": {},
   "outputs": [
    {
     "data": {
      "text/plain": [
       "True"
      ]
     },
     "execution_count": 38,
     "metadata": {},
     "output_type": "execute_result"
    }
   ],
   "source": [
    "isinstance(bool1, bool)"
   ]
  },
  {
   "cell_type": "code",
   "execution_count": 39,
   "id": "b551d498",
   "metadata": {},
   "outputs": [
    {
     "data": {
      "text/plain": [
       "True"
      ]
     },
     "execution_count": 39,
     "metadata": {},
     "output_type": "execute_result"
    }
   ],
   "source": [
    "isinstance(bool2, bool)"
   ]
  },
  {
   "cell_type": "code",
   "execution_count": 55,
   "id": "137d173f",
   "metadata": {},
   "outputs": [
    {
     "name": "stdout",
     "output_type": "stream",
     "text": [
      "True\n",
      "True\n",
      "False\n",
      "True\n"
     ]
    }
   ],
   "source": [
    "print(bool(1))\n",
    "print(bool(2324))\n",
    "print(bool(0))\n",
    "print(bool(-23))"
   ]
  },
  {
   "cell_type": "code",
   "execution_count": 47,
   "id": "a480bdd9",
   "metadata": {},
   "outputs": [
    {
     "data": {
      "text/plain": [
       "False"
      ]
     },
     "execution_count": 47,
     "metadata": {},
     "output_type": "execute_result"
    }
   ],
   "source": [
    "bool(0) #Anything apart from 0 everything is True"
   ]
  },
  {
   "cell_type": "markdown",
   "id": "8123d279",
   "metadata": {},
   "source": [
    "# String"
   ]
  },
  {
   "cell_type": "markdown",
   "id": "6980cc42",
   "metadata": {},
   "source": [
    "### String Creation"
   ]
  },
  {
   "cell_type": "code",
   "execution_count": 2,
   "id": "82d28ed2",
   "metadata": {
    "scrolled": true
   },
   "outputs": [
    {
     "name": "stdout",
     "output_type": "stream",
     "text": [
      "Helo Python\n"
     ]
    }
   ],
   "source": [
    "str1 = \"Helo Python\"\n",
    "print(str1)"
   ]
  },
  {
   "cell_type": "code",
   "execution_count": 60,
   "id": "072548fe",
   "metadata": {},
   "outputs": [
    {
     "data": {
      "text/plain": [
       "'Welcome home'"
      ]
     },
     "execution_count": 60,
     "metadata": {},
     "output_type": "execute_result"
    }
   ],
   "source": [
    "str2 = 'Welcome home'\n",
    "str2"
   ]
  },
  {
   "cell_type": "code",
   "execution_count": 64,
   "id": "38c422f8",
   "metadata": {},
   "outputs": [
    {
     "data": {
      "text/plain": [
       "'Woohoo Woohoo Woohoo Woohoo Woohoo '"
      ]
     },
     "execution_count": 64,
     "metadata": {},
     "output_type": "execute_result"
    }
   ],
   "source": [
    "str3 = 'Woohoo '\n",
    "str3 = str3 * 5\n",
    "str3"
   ]
  },
  {
   "cell_type": "markdown",
   "id": "060a2b95",
   "metadata": {},
   "source": [
    "### String Indexing"
   ]
  },
  {
   "cell_type": "code",
   "execution_count": 5,
   "id": "15c32106",
   "metadata": {},
   "outputs": [],
   "source": [
    "str1 = \"HELLO WORLD\""
   ]
  },
  {
   "cell_type": "code",
   "execution_count": 75,
   "id": "98dfe0ba",
   "metadata": {},
   "outputs": [
    {
     "data": {
      "text/plain": [
       "'O'"
      ]
     },
     "execution_count": 75,
     "metadata": {},
     "output_type": "execute_result"
    }
   ],
   "source": [
    "str1[7]"
   ]
  },
  {
   "cell_type": "code",
   "execution_count": 76,
   "id": "fe11503b",
   "metadata": {},
   "outputs": [
    {
     "data": {
      "text/plain": [
       "'R'"
      ]
     },
     "execution_count": 76,
     "metadata": {},
     "output_type": "execute_result"
    }
   ],
   "source": [
    "str1[-3]"
   ]
  },
  {
   "cell_type": "code",
   "execution_count": 77,
   "id": "0dbfb013",
   "metadata": {},
   "outputs": [
    {
     "data": {
      "text/plain": [
       "11"
      ]
     },
     "execution_count": 77,
     "metadata": {},
     "output_type": "execute_result"
    }
   ],
   "source": [
    "#lenght of the string\n",
    "len(str1)"
   ]
  },
  {
   "cell_type": "code",
   "execution_count": 78,
   "id": "e1d086e4",
   "metadata": {},
   "outputs": [
    {
     "data": {
      "text/plain": [
       "'D'"
      ]
     },
     "execution_count": 78,
     "metadata": {},
     "output_type": "execute_result"
    }
   ],
   "source": [
    "#last character in string using len function\n",
    "str1[len(str1)-1]"
   ]
  },
  {
   "cell_type": "code",
   "execution_count": 79,
   "id": "4f10f776",
   "metadata": {},
   "outputs": [
    {
     "data": {
      "text/plain": [
       "'D'"
      ]
     },
     "execution_count": 79,
     "metadata": {},
     "output_type": "execute_result"
    }
   ],
   "source": [
    "str1[-1]"
   ]
  },
  {
   "cell_type": "markdown",
   "id": "6dd52007",
   "metadata": {},
   "source": [
    "### String Slicing"
   ]
  },
  {
   "cell_type": "code",
   "execution_count": 6,
   "id": "880532a1",
   "metadata": {},
   "outputs": [
    {
     "data": {
      "text/plain": [
       "'HELLO WORLD'"
      ]
     },
     "execution_count": 6,
     "metadata": {},
     "output_type": "execute_result"
    }
   ],
   "source": [
    "str1"
   ]
  },
  {
   "cell_type": "code",
   "execution_count": 8,
   "id": "13923b74",
   "metadata": {},
   "outputs": [
    {
     "data": {
      "text/plain": [
       "'HELLO'"
      ]
     },
     "execution_count": 8,
     "metadata": {},
     "output_type": "execute_result"
    }
   ],
   "source": [
    "#string slicing - fetch all characters from 0 to 5 index\n",
    "#location excluding the upper limit\n",
    "str1[0:5]"
   ]
  },
  {
   "cell_type": "code",
   "execution_count": 9,
   "id": "8aeea8c2",
   "metadata": {},
   "outputs": [
    {
     "data": {
      "text/plain": [
       "'WORLD'"
      ]
     },
     "execution_count": 9,
     "metadata": {},
     "output_type": "execute_result"
    }
   ],
   "source": [
    "str1[6:12]"
   ]
  },
  {
   "cell_type": "code",
   "execution_count": 12,
   "id": "830c1e4f",
   "metadata": {},
   "outputs": [
    {
     "data": {
      "text/plain": [
       "'new'"
      ]
     },
     "execution_count": 12,
     "metadata": {},
     "output_type": "execute_result"
    }
   ],
   "source": [
    "str2= \"data is new fuel\"\n",
    "str2[8:11]"
   ]
  },
  {
   "cell_type": "code",
   "execution_count": 13,
   "id": "e8e9d309",
   "metadata": {},
   "outputs": [
    {
     "data": {
      "text/plain": [
       "'HELLO WORLD'"
      ]
     },
     "execution_count": 13,
     "metadata": {},
     "output_type": "execute_result"
    }
   ],
   "source": [
    "str1"
   ]
  },
  {
   "cell_type": "code",
   "execution_count": 16,
   "id": "b0ca7d8a",
   "metadata": {},
   "outputs": [
    {
     "data": {
      "text/plain": [
       "'ORLD'"
      ]
     },
     "execution_count": 16,
     "metadata": {},
     "output_type": "execute_result"
    }
   ],
   "source": [
    "str1[-4:]"
   ]
  },
  {
   "cell_type": "code",
   "execution_count": 17,
   "id": "e965266d",
   "metadata": {},
   "outputs": [
    {
     "data": {
      "text/plain": [
       "'HELLO'"
      ]
     },
     "execution_count": 17,
     "metadata": {},
     "output_type": "execute_result"
    }
   ],
   "source": [
    "str1[-11:-6]"
   ]
  },
  {
   "cell_type": "code",
   "execution_count": 18,
   "id": "43dbd04b",
   "metadata": {},
   "outputs": [
    {
     "data": {
      "text/plain": [
       "''"
      ]
     },
     "execution_count": 18,
     "metadata": {},
     "output_type": "execute_result"
    }
   ],
   "source": [
    "str2[-1:-11]  #slicing is done always from left to right"
   ]
  },
  {
   "cell_type": "code",
   "execution_count": 20,
   "id": "414c71de",
   "metadata": {},
   "outputs": [
    {
     "data": {
      "text/plain": [
       "'HELLO WORLD'"
      ]
     },
     "execution_count": 20,
     "metadata": {},
     "output_type": "execute_result"
    }
   ],
   "source": [
    "str1[:]  #all characters"
   ]
  },
  {
   "cell_type": "code",
   "execution_count": 22,
   "id": "3bb8713b",
   "metadata": {},
   "outputs": [
    {
     "data": {
      "text/plain": [
       "'HELLO '"
      ]
     },
     "execution_count": 22,
     "metadata": {},
     "output_type": "execute_result"
    }
   ],
   "source": [
    "str1[:6]"
   ]
  },
  {
   "cell_type": "code",
   "execution_count": 23,
   "id": "1d5cb048",
   "metadata": {},
   "outputs": [
    {
     "data": {
      "text/plain": [
       "'O WORLD'"
      ]
     },
     "execution_count": 23,
     "metadata": {},
     "output_type": "execute_result"
    }
   ],
   "source": [
    "str1[4:]"
   ]
  },
  {
   "cell_type": "markdown",
   "id": "3e241f93",
   "metadata": {},
   "source": [
    "### Update and delete String"
   ]
  },
  {
   "cell_type": "markdown",
   "id": "91d69381",
   "metadata": {},
   "source": [
    "* strings are immutable which means elements of a string cannot be changed once they are assigned with the value"
   ]
  },
  {
   "cell_type": "code",
   "execution_count": 24,
   "id": "cab0baaf",
   "metadata": {},
   "outputs": [
    {
     "data": {
      "text/plain": [
       "'HELLO WORLD'"
      ]
     },
     "execution_count": 24,
     "metadata": {},
     "output_type": "execute_result"
    }
   ],
   "source": [
    "str1"
   ]
  },
  {
   "cell_type": "code",
   "execution_count": 25,
   "id": "547d9ae3",
   "metadata": {},
   "outputs": [
    {
     "ename": "TypeError",
     "evalue": "'str' object does not support item assignment",
     "output_type": "error",
     "traceback": [
      "\u001b[1;31m---------------------------------------------------------------------------\u001b[0m",
      "\u001b[1;31mTypeError\u001b[0m                                 Traceback (most recent call last)",
      "\u001b[1;32m~\\AppData\\Local\\Temp/ipykernel_13120/724044498.py\u001b[0m in \u001b[0;36m<module>\u001b[1;34m\u001b[0m\n\u001b[1;32m----> 1\u001b[1;33m \u001b[0mstr1\u001b[0m\u001b[1;33m[\u001b[0m\u001b[1;36m0\u001b[0m\u001b[1;33m:\u001b[0m\u001b[1;36m5\u001b[0m\u001b[1;33m]\u001b[0m\u001b[1;33m=\u001b[0m \u001b[1;34m\"Heya\"\u001b[0m\u001b[1;33m\u001b[0m\u001b[1;33m\u001b[0m\u001b[0m\n\u001b[0m",
      "\u001b[1;31mTypeError\u001b[0m: 'str' object does not support item assignment"
     ]
    }
   ],
   "source": [
    "str1[0:5]= \"Heya\""
   ]
  },
  {
   "cell_type": "code",
   "execution_count": 26,
   "id": "6690eaca",
   "metadata": {},
   "outputs": [],
   "source": [
    "#deleteing a string\n",
    "del str1"
   ]
  },
  {
   "cell_type": "code",
   "execution_count": 27,
   "id": "d12be6eb",
   "metadata": {},
   "outputs": [
    {
     "ename": "NameError",
     "evalue": "name 'str1' is not defined",
     "output_type": "error",
     "traceback": [
      "\u001b[1;31m---------------------------------------------------------------------------\u001b[0m",
      "\u001b[1;31mNameError\u001b[0m                                 Traceback (most recent call last)",
      "\u001b[1;32m~\\AppData\\Local\\Temp/ipykernel_13120/934771681.py\u001b[0m in \u001b[0;36m<module>\u001b[1;34m\u001b[0m\n\u001b[1;32m----> 1\u001b[1;33m \u001b[0mstr1\u001b[0m\u001b[1;33m\u001b[0m\u001b[1;33m\u001b[0m\u001b[0m\n\u001b[0m",
      "\u001b[1;31mNameError\u001b[0m: name 'str1' is not defined"
     ]
    }
   ],
   "source": [
    "str1"
   ]
  },
  {
   "cell_type": "markdown",
   "id": "d72025e2",
   "metadata": {},
   "source": [
    "### String Concatenation"
   ]
  },
  {
   "cell_type": "code",
   "execution_count": 36,
   "id": "89b07136",
   "metadata": {},
   "outputs": [
    {
     "name": "stdout",
     "output_type": "stream",
     "text": [
      "the concatenation of the string is: data science\n"
     ]
    }
   ],
   "source": [
    "s1=\"data\"\n",
    "s2=\"science\"\n",
    "s3=s1+\" \"+s2\n",
    "print(\"the concatenation of the string is:\", s3)"
   ]
  },
  {
   "cell_type": "markdown",
   "id": "fcff18dc",
   "metadata": {},
   "source": [
    "### String Membership"
   ]
  },
  {
   "cell_type": "code",
   "execution_count": 37,
   "id": "d1b9547d",
   "metadata": {},
   "outputs": [],
   "source": [
    "mystr1 = \"Hello Everyone\""
   ]
  },
  {
   "cell_type": "code",
   "execution_count": 38,
   "id": "8a6cad26",
   "metadata": {},
   "outputs": [
    {
     "name": "stdout",
     "output_type": "stream",
     "text": [
      "True\n"
     ]
    }
   ],
   "source": [
    "#chech whether substring \"Hello\" is present in given string\n",
    "print(\"Hello\" in mystr1)  "
   ]
  },
  {
   "cell_type": "code",
   "execution_count": 40,
   "id": "06208962",
   "metadata": {},
   "outputs": [
    {
     "name": "stdout",
     "output_type": "stream",
     "text": [
      "True\n"
     ]
    }
   ],
   "source": [
    "print(\"Everyone\" in mystr1)"
   ]
  },
  {
   "cell_type": "code",
   "execution_count": 42,
   "id": "5c13b278",
   "metadata": {},
   "outputs": [
    {
     "name": "stdout",
     "output_type": "stream",
     "text": [
      "False\n"
     ]
    }
   ],
   "source": [
    "print(\"welcome\" in mystr1)"
   ]
  },
  {
   "cell_type": "markdown",
   "id": "d51c1dd6",
   "metadata": {},
   "source": [
    "### String partioning"
   ]
  },
  {
   "cell_type": "code",
   "execution_count": 43,
   "id": "4b19a833",
   "metadata": {},
   "outputs": [],
   "source": [
    "str2 = \"Natural language processing with python and R and Java\"\n",
    "L = str2.partition(\"with\")"
   ]
  },
  {
   "cell_type": "code",
   "execution_count": 44,
   "id": "bc281a3f",
   "metadata": {},
   "outputs": [
    {
     "name": "stdout",
     "output_type": "stream",
     "text": [
      "('Natural language processing ', 'with', ' python and R and Java')\n"
     ]
    }
   ],
   "source": [
    "print(L)"
   ]
  },
  {
   "cell_type": "markdown",
   "id": "da9f3f38",
   "metadata": {},
   "source": [
    "### String Function"
   ]
  },
  {
   "cell_type": "code",
   "execution_count": 46,
   "id": "a1ea359d",
   "metadata": {},
   "outputs": [
    {
     "data": {
      "text/plain": [
       "' Hello Karnataka '"
      ]
     },
     "execution_count": 46,
     "metadata": {},
     "output_type": "execute_result"
    }
   ],
   "source": [
    "mystr2 = \" Hello Karnataka \"\n",
    "mystr2"
   ]
  },
  {
   "cell_type": "code",
   "execution_count": 48,
   "id": "3e92f146",
   "metadata": {},
   "outputs": [
    {
     "data": {
      "text/plain": [
       "'Hello Karnataka'"
      ]
     },
     "execution_count": 48,
     "metadata": {},
     "output_type": "execute_result"
    }
   ],
   "source": [
    "#Remove the white space from beginning & end\n",
    "mystr2.strip()"
   ]
  },
  {
   "cell_type": "code",
   "execution_count": 49,
   "id": "8e3914a3",
   "metadata": {},
   "outputs": [
    {
     "data": {
      "text/plain": [
       "' Hello Karnataka'"
      ]
     },
     "execution_count": 49,
     "metadata": {},
     "output_type": "execute_result"
    }
   ],
   "source": [
    "#Remove the white space at the end of the string\n",
    "mystr2.rstrip() "
   ]
  },
  {
   "cell_type": "code",
   "execution_count": 50,
   "id": "3294c5bb",
   "metadata": {},
   "outputs": [
    {
     "data": {
      "text/plain": [
       "'Hello Karnataka '"
      ]
     },
     "execution_count": 50,
     "metadata": {},
     "output_type": "execute_result"
    }
   ],
   "source": [
    "#Remove the white space at the beginning of the string\n",
    "mystr2.lstrip()"
   ]
  },
  {
   "cell_type": "code",
   "execution_count": 51,
   "id": "8ba01976",
   "metadata": {},
   "outputs": [
    {
     "data": {
      "text/plain": [
       "' Hello Karnataka '"
      ]
     },
     "execution_count": 51,
     "metadata": {},
     "output_type": "execute_result"
    }
   ],
   "source": [
    "mystr2"
   ]
  },
  {
   "cell_type": "code",
   "execution_count": 60,
   "id": "aa7f15cc",
   "metadata": {},
   "outputs": [
    {
     "data": {
      "text/plain": [
       "'@@@@@Hello Bois@@@@@How are you@@@@@'"
      ]
     },
     "execution_count": 60,
     "metadata": {},
     "output_type": "execute_result"
    }
   ],
   "source": [
    "mystr3 = \"@@@@@Hello Bois@@@@@How are you@@@@@\"\n",
    "mystr3"
   ]
  },
  {
   "cell_type": "code",
   "execution_count": 61,
   "id": "659e94db",
   "metadata": {},
   "outputs": [
    {
     "data": {
      "text/plain": [
       "'Hello Bois@@@@@How are you'"
      ]
     },
     "execution_count": 61,
     "metadata": {},
     "output_type": "execute_result"
    }
   ],
   "source": [
    "#remove all the special characters from the beginning and end\n",
    "mystr3.strip(\"@\")"
   ]
  },
  {
   "cell_type": "code",
   "execution_count": 62,
   "id": "b67da975",
   "metadata": {},
   "outputs": [
    {
     "data": {
      "text/plain": [
       "'@@@@@Hello Bois@@@@@How are you'"
      ]
     },
     "execution_count": 62,
     "metadata": {},
     "output_type": "execute_result"
    }
   ],
   "source": [
    "mystr3.rstrip(\"@\")"
   ]
  },
  {
   "cell_type": "code",
   "execution_count": 63,
   "id": "a20b5929",
   "metadata": {},
   "outputs": [
    {
     "data": {
      "text/plain": [
       "'Hello Bois@@@@@How are you@@@@@'"
      ]
     },
     "execution_count": 63,
     "metadata": {},
     "output_type": "execute_result"
    }
   ],
   "source": [
    "mystr3.lstrip(\"@\")"
   ]
  },
  {
   "cell_type": "code",
   "execution_count": 65,
   "id": "7eaaa7a1",
   "metadata": {},
   "outputs": [
    {
     "name": "stdout",
     "output_type": "stream",
     "text": [
      "@@@@@hello bois@@@@@how are you@@@@@\n",
      "@@@@@HELLO BOIS@@@@@HOW ARE YOU@@@@@\n"
     ]
    }
   ],
   "source": [
    "print(mystr3.lower())\n",
    "print(mystr3.upper())"
   ]
  },
  {
   "cell_type": "code",
   "execution_count": 66,
   "id": "09e54615",
   "metadata": {},
   "outputs": [
    {
     "data": {
      "text/plain": [
       "'@@@@@Hello Bois@@@@@How are you@@@@@'"
      ]
     },
     "execution_count": 66,
     "metadata": {},
     "output_type": "execute_result"
    }
   ],
   "source": [
    "mystr3"
   ]
  },
  {
   "cell_type": "code",
   "execution_count": 67,
   "id": "90dc9f76",
   "metadata": {},
   "outputs": [
    {
     "data": {
      "text/plain": [
       "'@@@@@Hillo Bois@@@@@How are you@@@@@'"
      ]
     },
     "execution_count": 67,
     "metadata": {},
     "output_type": "execute_result"
    }
   ],
   "source": [
    "mystr3.replace(\"He\",\"Hi\")"
   ]
  },
  {
   "cell_type": "code",
   "execution_count": 68,
   "id": "613ac092",
   "metadata": {},
   "outputs": [
    {
     "data": {
      "text/plain": [
       "'@@@@@Hopeless Bois@@@@@How are you@@@@@'"
      ]
     },
     "execution_count": 68,
     "metadata": {},
     "output_type": "execute_result"
    }
   ],
   "source": [
    "mystr3.replace(\"Hello\",\"Hopeless\")"
   ]
  },
  {
   "cell_type": "markdown",
   "id": "66572d31",
   "metadata": {},
   "source": []
  },
  {
   "cell_type": "code",
   "execution_count": 73,
   "id": "2a6cdc1c",
   "metadata": {},
   "outputs": [],
   "source": [
    "mystr4= \"one two three one two two three\""
   ]
  },
  {
   "cell_type": "code",
   "execution_count": 75,
   "id": "e94393fe",
   "metadata": {},
   "outputs": [
    {
     "data": {
      "text/plain": [
       "3"
      ]
     },
     "execution_count": 75,
     "metadata": {},
     "output_type": "execute_result"
    }
   ],
   "source": [
    "mystr4.count(\"two\")"
   ]
  },
  {
   "cell_type": "code",
   "execution_count": 76,
   "id": "1a52c92f",
   "metadata": {},
   "outputs": [
    {
     "data": {
      "text/plain": [
       "5"
      ]
     },
     "execution_count": 76,
     "metadata": {},
     "output_type": "execute_result"
    }
   ],
   "source": [
    "mystr4.count(\"o\")"
   ]
  },
  {
   "cell_type": "code",
   "execution_count": 78,
   "id": "4df2eb89",
   "metadata": {},
   "outputs": [
    {
     "data": {
      "text/plain": [
       "6"
      ]
     },
     "execution_count": 78,
     "metadata": {},
     "output_type": "execute_result"
    }
   ],
   "source": [
    "mystr4.count(\"e\")"
   ]
  },
  {
   "cell_type": "code",
   "execution_count": 80,
   "id": "366d9944",
   "metadata": {},
   "outputs": [
    {
     "data": {
      "text/plain": [
       "True"
      ]
     },
     "execution_count": 80,
     "metadata": {},
     "output_type": "execute_result"
    }
   ],
   "source": [
    "mystr4.startswith(\"one\")  #Returns boolean value "
   ]
  },
  {
   "cell_type": "code",
   "execution_count": 83,
   "id": "a579aebb",
   "metadata": {},
   "outputs": [
    {
     "data": {
      "text/plain": [
       "True"
      ]
     },
     "execution_count": 83,
     "metadata": {},
     "output_type": "execute_result"
    }
   ],
   "source": [
    "mystr4.endswith(\"three\")"
   ]
  },
  {
   "cell_type": "code",
   "execution_count": 84,
   "id": "ea8b4f9d",
   "metadata": {},
   "outputs": [
    {
     "data": {
      "text/plain": [
       "False"
      ]
     },
     "execution_count": 84,
     "metadata": {},
     "output_type": "execute_result"
    }
   ],
   "source": [
    "mystr4.endswith(\"two\")"
   ]
  },
  {
   "cell_type": "code",
   "execution_count": 86,
   "id": "1d6167c7",
   "metadata": {},
   "outputs": [],
   "source": [
    "mystr5 = \"one two three four one two two three five five six seven six seven one one one ten eight ten nine eleven ten ten nine\""
   ]
  },
  {
   "cell_type": "code",
   "execution_count": 87,
   "id": "dde61ee2",
   "metadata": {},
   "outputs": [
    {
     "data": {
      "text/plain": [
       "['one',\n",
       " 'two',\n",
       " 'three',\n",
       " 'four',\n",
       " 'one',\n",
       " 'two',\n",
       " 'two',\n",
       " 'three',\n",
       " 'five',\n",
       " 'five',\n",
       " 'six',\n",
       " 'seven',\n",
       " 'six',\n",
       " 'seven',\n",
       " 'one',\n",
       " 'one',\n",
       " 'one',\n",
       " 'ten',\n",
       " 'eight',\n",
       " 'ten',\n",
       " 'nine',\n",
       " 'eleven',\n",
       " 'ten',\n",
       " 'ten',\n",
       " 'nine']"
      ]
     },
     "execution_count": 87,
     "metadata": {},
     "output_type": "execute_result"
    }
   ],
   "source": [
    "mystr5.split()"
   ]
  },
  {
   "cell_type": "code",
   "execution_count": 88,
   "id": "eba06935",
   "metadata": {},
   "outputs": [
    {
     "data": {
      "text/plain": [
       "['on',\n",
       " ' two thr',\n",
       " '',\n",
       " ' four on',\n",
       " ' two two thr',\n",
       " '',\n",
       " ' fiv',\n",
       " ' fiv',\n",
       " ' six s',\n",
       " 'v',\n",
       " 'n six s',\n",
       " 'v',\n",
       " 'n on',\n",
       " ' on',\n",
       " ' on',\n",
       " ' t',\n",
       " 'n ',\n",
       " 'ight t',\n",
       " 'n nin',\n",
       " ' ',\n",
       " 'l',\n",
       " 'v',\n",
       " 'n t',\n",
       " 'n t',\n",
       " 'n nin',\n",
       " '']"
      ]
     },
     "execution_count": 88,
     "metadata": {},
     "output_type": "execute_result"
    }
   ],
   "source": [
    "mystr5.split(\"e\")"
   ]
  },
  {
   "cell_type": "code",
   "execution_count": 94,
   "id": "9f762ba0",
   "metadata": {},
   "outputs": [
    {
     "name": "stdout",
     "output_type": "stream",
     "text": [
      "cost of item1, item2 and item3 are 40, 55 and 75\n"
     ]
    }
   ],
   "source": [
    "#combining srings and numbers using format method\n",
    "item1 = 40\n",
    "item2 = 55\n",
    "item3 = 75\n",
    "res = \"cost of item1, item2 and item3 are {}, {} and {}\"\n",
    "print(res.format(item1,item2,item3))"
   ]
  },
  {
   "cell_type": "code",
   "execution_count": 95,
   "id": "acc12c9c",
   "metadata": {},
   "outputs": [
    {
     "name": "stdout",
     "output_type": "stream",
     "text": [
      "the value a is 5 and the value of b is 3 value of c is 9\n"
     ]
    }
   ],
   "source": [
    "a= 5 \n",
    "b= 3\n",
    "c= 9\n",
    "print(\"the value a is {} and the value of b is {} value of c is {}\" .format(a,b,c))"
   ]
  },
  {
   "cell_type": "markdown",
   "id": "a633e479",
   "metadata": {},
   "source": [
    "# Typecasting"
   ]
  },
  {
   "cell_type": "markdown",
   "id": "d1d95cf0",
   "metadata": {},
   "source": [
    "### Auto Typecasting"
   ]
  },
  {
   "cell_type": "markdown",
   "id": "c3af1cda",
   "metadata": {},
   "source": [
    "* the python interpretor automatically converts one data type to another without any user involvement"
   ]
  },
  {
   "cell_type": "code",
   "execution_count": 97,
   "id": "a0adfcde",
   "metadata": {},
   "outputs": [
    {
     "data": {
      "text/plain": [
       "9.67"
      ]
     },
     "execution_count": 97,
     "metadata": {},
     "output_type": "execute_result"
    }
   ],
   "source": [
    "4 + 5.67 + False\n",
    "# 4.0 + 5.67 + 0.0 (Background processing of the code) due to the high"
   ]
  },
  {
   "cell_type": "code",
   "execution_count": 98,
   "id": "f4134b45",
   "metadata": {},
   "outputs": [
    {
     "data": {
      "text/plain": [
       "10.67"
      ]
     },
     "execution_count": 98,
     "metadata": {},
     "output_type": "execute_result"
    }
   ],
   "source": [
    "4 + 5.67 + False + True"
   ]
  },
  {
   "cell_type": "code",
   "execution_count": 99,
   "id": "775accaf",
   "metadata": {},
   "outputs": [
    {
     "ename": "TypeError",
     "evalue": "unsupported operand type(s) for +: 'int' and 'str'",
     "output_type": "error",
     "traceback": [
      "\u001b[1;31m---------------------------------------------------------------------------\u001b[0m",
      "\u001b[1;31mTypeError\u001b[0m                                 Traceback (most recent call last)",
      "\u001b[1;32m~\\AppData\\Local\\Temp/ipykernel_13120/4142917619.py\u001b[0m in \u001b[0;36m<module>\u001b[1;34m\u001b[0m\n\u001b[1;32m----> 1\u001b[1;33m \u001b[1;36m4\u001b[0m \u001b[1;33m+\u001b[0m \u001b[1;36m3\u001b[0m \u001b[1;33m+\u001b[0m \u001b[1;34m'data'\u001b[0m \u001b[1;33m+\u001b[0m \u001b[1;36m6.7\u001b[0m\u001b[1;33m\u001b[0m\u001b[1;33m\u001b[0m\u001b[0m\n\u001b[0m",
      "\u001b[1;31mTypeError\u001b[0m: unsupported operand type(s) for +: 'int' and 'str'"
     ]
    }
   ],
   "source": [
    "4 + 3 + 'data' + 6.7"
   ]
  },
  {
   "cell_type": "code",
   "execution_count": 100,
   "id": "263769c6",
   "metadata": {},
   "outputs": [
    {
     "data": {
      "text/plain": [
       "4.6"
      ]
     },
     "execution_count": 100,
     "metadata": {},
     "output_type": "execute_result"
    }
   ],
   "source": [
    "True + 3.6  #True is convet int 1 / true:1, Flase:0"
   ]
  },
  {
   "cell_type": "markdown",
   "id": "9970d076",
   "metadata": {},
   "source": [
    "### Forced typecasting"
   ]
  },
  {
   "cell_type": "code",
   "execution_count": 101,
   "id": "7545cdcf",
   "metadata": {},
   "outputs": [],
   "source": [
    "a = 9.7"
   ]
  },
  {
   "cell_type": "code",
   "execution_count": 102,
   "id": "15eda1fb",
   "metadata": {},
   "outputs": [
    {
     "data": {
      "text/plain": [
       "float"
      ]
     },
     "execution_count": 102,
     "metadata": {},
     "output_type": "execute_result"
    }
   ],
   "source": [
    "type(a)"
   ]
  },
  {
   "cell_type": "code",
   "execution_count": 103,
   "id": "ff2709b7",
   "metadata": {},
   "outputs": [
    {
     "data": {
      "text/plain": [
       "9"
      ]
     },
     "execution_count": 103,
     "metadata": {},
     "output_type": "execute_result"
    }
   ],
   "source": [
    "#convert float type to int \n",
    "a = int(9.7)\n",
    "a"
   ]
  },
  {
   "cell_type": "code",
   "execution_count": 105,
   "id": "651230f7",
   "metadata": {},
   "outputs": [
    {
     "data": {
      "text/plain": [
       "9"
      ]
     },
     "execution_count": 105,
     "metadata": {},
     "output_type": "execute_result"
    }
   ],
   "source": [
    "int(a)"
   ]
  },
  {
   "cell_type": "code",
   "execution_count": 108,
   "id": "a6fb816c",
   "metadata": {},
   "outputs": [
    {
     "ename": "ValueError",
     "evalue": "invalid literal for int() with base 10: 'data'",
     "output_type": "error",
     "traceback": [
      "\u001b[1;31m---------------------------------------------------------------------------\u001b[0m",
      "\u001b[1;31mValueError\u001b[0m                                Traceback (most recent call last)",
      "\u001b[1;32m~\\AppData\\Local\\Temp/ipykernel_13120/4169481474.py\u001b[0m in \u001b[0;36m<module>\u001b[1;34m\u001b[0m\n\u001b[1;32m----> 1\u001b[1;33m \u001b[0mint\u001b[0m\u001b[1;33m(\u001b[0m\u001b[1;34m\"data\"\u001b[0m\u001b[1;33m)\u001b[0m\u001b[1;33m\u001b[0m\u001b[1;33m\u001b[0m\u001b[0m\n\u001b[0m",
      "\u001b[1;31mValueError\u001b[0m: invalid literal for int() with base 10: 'data'"
     ]
    }
   ],
   "source": [
    "int(\"data\")"
   ]
  },
  {
   "cell_type": "code",
   "execution_count": 109,
   "id": "4ad174c9",
   "metadata": {},
   "outputs": [
    {
     "data": {
      "text/plain": [
       "2"
      ]
     },
     "execution_count": 109,
     "metadata": {},
     "output_type": "execute_result"
    }
   ],
   "source": [
    "int(\"2\")"
   ]
  },
  {
   "cell_type": "code",
   "execution_count": 115,
   "id": "5f6bb415",
   "metadata": {},
   "outputs": [
    {
     "data": {
      "text/plain": [
       "1"
      ]
     },
     "execution_count": 115,
     "metadata": {},
     "output_type": "execute_result"
    }
   ],
   "source": [
    "int(True)"
   ]
  },
  {
   "cell_type": "code",
   "execution_count": 112,
   "id": "fbfb1218",
   "metadata": {},
   "outputs": [
    {
     "data": {
      "text/plain": [
       "0"
      ]
     },
     "execution_count": 112,
     "metadata": {},
     "output_type": "execute_result"
    }
   ],
   "source": [
    "int(False)"
   ]
  },
  {
   "cell_type": "code",
   "execution_count": 116,
   "id": "05fe4f60",
   "metadata": {},
   "outputs": [
    {
     "data": {
      "text/plain": [
       "5.0"
      ]
     },
     "execution_count": 116,
     "metadata": {},
     "output_type": "execute_result"
    }
   ],
   "source": [
    "float(5)"
   ]
  },
  {
   "cell_type": "code",
   "execution_count": 117,
   "id": "b10c7d4d",
   "metadata": {},
   "outputs": [
    {
     "data": {
      "text/plain": [
       "1.0"
      ]
     },
     "execution_count": 117,
     "metadata": {},
     "output_type": "execute_result"
    }
   ],
   "source": [
    "float(True)"
   ]
  },
  {
   "cell_type": "code",
   "execution_count": 119,
   "id": "698b6bd5",
   "metadata": {},
   "outputs": [
    {
     "ename": "ValueError",
     "evalue": "could not convert string to float: 'abc'",
     "output_type": "error",
     "traceback": [
      "\u001b[1;31m---------------------------------------------------------------------------\u001b[0m",
      "\u001b[1;31mValueError\u001b[0m                                Traceback (most recent call last)",
      "\u001b[1;32m~\\AppData\\Local\\Temp/ipykernel_13120/3972394657.py\u001b[0m in \u001b[0;36m<module>\u001b[1;34m\u001b[0m\n\u001b[0;32m      1\u001b[0m \u001b[0ma\u001b[0m \u001b[1;33m=\u001b[0m \u001b[1;34m'abc'\u001b[0m\u001b[1;33m\u001b[0m\u001b[1;33m\u001b[0m\u001b[0m\n\u001b[1;32m----> 2\u001b[1;33m \u001b[0mfloat\u001b[0m\u001b[1;33m(\u001b[0m\u001b[0ma\u001b[0m\u001b[1;33m)\u001b[0m\u001b[1;33m\u001b[0m\u001b[1;33m\u001b[0m\u001b[0m\n\u001b[0m",
      "\u001b[1;31mValueError\u001b[0m: could not convert string to float: 'abc'"
     ]
    }
   ],
   "source": [
    "a = 'abc'\n",
    "float(a)"
   ]
  },
  {
   "cell_type": "code",
   "execution_count": 120,
   "id": "aced9670",
   "metadata": {},
   "outputs": [
    {
     "data": {
      "text/plain": [
       "True"
      ]
     },
     "execution_count": 120,
     "metadata": {},
     "output_type": "execute_result"
    }
   ],
   "source": [
    "bool(7.8)"
   ]
  },
  {
   "cell_type": "code",
   "execution_count": 122,
   "id": "164884de",
   "metadata": {},
   "outputs": [
    {
     "data": {
      "text/plain": [
       "False"
      ]
     },
     "execution_count": 122,
     "metadata": {},
     "output_type": "execute_result"
    }
   ],
   "source": [
    "bool(0)"
   ]
  },
  {
   "cell_type": "code",
   "execution_count": 123,
   "id": "735c09b7",
   "metadata": {},
   "outputs": [
    {
     "data": {
      "text/plain": [
       "True"
      ]
     },
     "execution_count": 123,
     "metadata": {},
     "output_type": "execute_result"
    }
   ],
   "source": [
    "bool(-1)"
   ]
  },
  {
   "cell_type": "code",
   "execution_count": 124,
   "id": "dfc2d2cd",
   "metadata": {},
   "outputs": [
    {
     "name": "stdout",
     "output_type": "stream",
     "text": [
      "5\n",
      "12.0\n",
      "12.2\n"
     ]
    }
   ],
   "source": [
    "print(int(1.5)+4+bool(0))\n",
    "print(int(5.6)+float(6)+bool(23))\n",
    "print(int(6.5)+1.2+int(5.5)+bool(0))"
   ]
  },
  {
   "cell_type": "code",
   "execution_count": 125,
   "id": "b2a51d0a",
   "metadata": {},
   "outputs": [
    {
     "data": {
      "text/plain": [
       "'5'"
      ]
     },
     "execution_count": 125,
     "metadata": {},
     "output_type": "execute_result"
    }
   ],
   "source": [
    "str(5)"
   ]
  },
  {
   "cell_type": "code",
   "execution_count": 127,
   "id": "d430e25a",
   "metadata": {},
   "outputs": [
    {
     "data": {
      "text/plain": [
       "'9.0'"
      ]
     },
     "execution_count": 127,
     "metadata": {},
     "output_type": "execute_result"
    }
   ],
   "source": [
    "str(9.0)"
   ]
  },
  {
   "cell_type": "code",
   "execution_count": 128,
   "id": "f14020a9",
   "metadata": {},
   "outputs": [
    {
     "data": {
      "text/plain": [
       "'True'"
      ]
     },
     "execution_count": 128,
     "metadata": {},
     "output_type": "execute_result"
    }
   ],
   "source": [
    "str(True)"
   ]
  },
  {
   "cell_type": "markdown",
   "id": "573790db",
   "metadata": {},
   "source": [
    "## Operator"
   ]
  },
  {
   "cell_type": "code",
   "execution_count": 11,
   "id": "557d29d5",
   "metadata": {},
   "outputs": [],
   "source": [
    "a = 5 \n",
    "b = 3\n",
    "x = \"Data\"\n",
    "y = \"Science\""
   ]
  },
  {
   "cell_type": "code",
   "execution_count": 12,
   "id": "0cf786dd",
   "metadata": {},
   "outputs": [
    {
     "name": "stdout",
     "output_type": "stream",
     "text": [
      "Addition of 8 and 5 will give :- 3\n",
      "\n"
     ]
    }
   ],
   "source": [
    "#addition\n",
    "c = a + b\n",
    "print(\"Addition of {} and {} will give :- {}\\n\".format(c,a,b))"
   ]
  },
  {
   "cell_type": "code",
   "execution_count": 4,
   "id": "70398ede",
   "metadata": {},
   "outputs": [
    {
     "name": "stdout",
     "output_type": "stream",
     "text": [
      "Substraction of 5 and 3 will give :- 2\n",
      "\n"
     ]
    }
   ],
   "source": [
    "#Substraction\n",
    "c = a-b\n",
    "print(\"Substraction of {} and {} will give :- {}\\n\".format(a,b,c))"
   ]
  },
  {
   "cell_type": "code",
   "execution_count": 5,
   "id": "44fe36db",
   "metadata": {},
   "outputs": [
    {
     "name": "stdout",
     "output_type": "stream",
     "text": [
      "15\n"
     ]
    }
   ],
   "source": [
    "#Multiplication\n",
    "c = a * b\n",
    "print(c)"
   ]
  },
  {
   "cell_type": "code",
   "execution_count": 14,
   "id": "a134f4cd",
   "metadata": {},
   "outputs": [
    {
     "name": "stdout",
     "output_type": "stream",
     "text": [
      "floor divisiom of 5 and 3 will give :- 1\n",
      "\n"
     ]
    }
   ],
   "source": [
    "#Division(floor)\n",
    "c = a // b   #Chopping thr decimal\n",
    "print(\"floor divisiom of {} and {} will give :- {}\\n\".format(a,b,c))"
   ]
  },
  {
   "cell_type": "code",
   "execution_count": 9,
   "id": "6c0a53d9",
   "metadata": {},
   "outputs": [
    {
     "name": "stdout",
     "output_type": "stream",
     "text": [
      "Modulo of 5 and 3 will give :- 2\n",
      "\n"
     ]
    }
   ],
   "source": [
    "#modulo of both number\n",
    "c = a % b\n",
    "print(\"Modulo of {} and {} will give :- {}\\n\".format(a,b,c))"
   ]
  },
  {
   "cell_type": "code",
   "execution_count": 12,
   "id": "a7d56c3b",
   "metadata": {},
   "outputs": [
    {
     "name": "stdout",
     "output_type": "stream",
     "text": [
      "5 raised to the power 3 will give :- 125\n",
      "\n"
     ]
    }
   ],
   "source": [
    "#power\n",
    "c = a ** b\n",
    "print(\"{} raised to the power {} will give :- {}\\n\".format(a,b,c))"
   ]
  },
  {
   "cell_type": "markdown",
   "id": "98556caf",
   "metadata": {},
   "source": [
    "### Comparision Operators"
   ]
  },
  {
   "cell_type": "code",
   "execution_count": 13,
   "id": "febe6326",
   "metadata": {},
   "outputs": [
    {
     "name": "stdout",
     "output_type": "stream",
     "text": [
      "Is x is greator than y :-  False\n",
      "Is x is less than y :-  True\n",
      "Is x is equal than y :-  False\n",
      "Is x is not  equal than y :-  True\n",
      "Is x is greator than or equal to y :-  False\n",
      "Is x is less than or equal to y :-  False\n"
     ]
    }
   ],
   "source": [
    "x = 20\n",
    "y = 30\n",
    "print(\"Is x is greator than y :- \", x>y)\n",
    "print(\"Is x is less than y :- \", x<y)\n",
    "print(\"Is x is equal than y :- \", x==y)\n",
    "print(\"Is x is not  equal than y :- \", x!=y)\n",
    "print(\"Is x is greator than or equal to y :- \", x>=y)\n",
    "print(\"Is x is less than or equal to y :- \", x>=y)"
   ]
  },
  {
   "cell_type": "code",
   "execution_count": null,
   "id": "e2a54d99",
   "metadata": {},
   "outputs": [],
   "source": [
    "a = \"Data\"\n",
    "b = \"Science\"\n",
    "c = \"Data\"\n",
    "\n",
    "a == b,\n",
    "a == c,\n",
    "a != b #Comparision operators on st"
   ]
  },
  {
   "cell_type": "markdown",
   "id": "bbe337b5",
   "metadata": {},
   "source": [
    "## Logical Operators"
   ]
  },
  {
   "cell_type": "code",
   "execution_count": 1,
   "id": "151a7bf6",
   "metadata": {},
   "outputs": [
    {
     "name": "stdout",
     "output_type": "stream",
     "text": [
      "Logical  AND  operation  :-   False\n",
      "Logical  OR  operation  :-   True\n",
      "NOT  operation  :-   True\n"
     ]
    }
   ],
   "source": [
    "x = True\n",
    "y = False\n",
    "\n",
    "print('Logical  AND  operation  :-  ',x  and  y)  #  True  if  both  values  are  true\n",
    "print('Logical  OR  operation  :-  ',x  or  y)  #  True  if  either  of  the  values  is  true\n",
    "print('NOT  operation  :-  ',not  y  )  #  True  if  operand  is  false"
   ]
  },
  {
   "cell_type": "markdown",
   "id": "51c7075d",
   "metadata": {},
   "source": [
    "## Bitwise operators"
   ]
  },
  {
   "cell_type": "code",
   "execution_count": 2,
   "id": "d810728c",
   "metadata": {},
   "outputs": [
    {
     "name": "stdout",
     "output_type": "stream",
     "text": [
      "Bitwise  AND  operation  -  2\n",
      "Bitwise OR operation - 22\n"
     ]
    }
   ],
   "source": [
    "x = 18# binary form 10010\n",
    "y = 6# binary form 00110\n",
    "\n",
    "print('Bitwise  AND  operation  -  {}'.format(x&y)) \n",
    "print('Bitwise OR operation - {}'.format(x|y)) "
   ]
  },
  {
   "cell_type": "markdown",
   "id": "85766b85",
   "metadata": {},
   "source": [
    "## If  conditional statement"
   ]
  },
  {
   "cell_type": "markdown",
   "id": "88194b28",
   "metadata": {},
   "source": [
    "* A Python if statement evaluates whether a condition is equal to true or false.\n",
    "* The statement will execute a block of code if a specified condition is equal to true. Otherwise, the block of code within the if statement is not executed"
   ]
  },
  {
   "cell_type": "code",
   "execution_count": 3,
   "id": "0b79366c",
   "metadata": {},
   "outputs": [
    {
     "name": "stdout",
     "output_type": "stream",
     "text": [
      "The if condition is true\n"
     ]
    }
   ],
   "source": [
    "x=2\n",
    "if x==2: # If condition is true\n",
    "    print('The if condition is true')"
   ]
  },
  {
   "cell_type": "code",
   "execution_count": 11,
   "id": "ba6e15c3",
   "metadata": {},
   "outputs": [],
   "source": [
    "x=5\n",
    "if x==2:# If condition is false\n",
    "    print('The if condition is true')"
   ]
  },
  {
   "cell_type": "code",
   "execution_count": 7,
   "id": "f95c4f85",
   "metadata": {},
   "outputs": [
    {
     "name": "stdout",
     "output_type": "stream",
     "text": [
      "Else part is executed\n"
     ]
    }
   ],
   "source": [
    "x=5\n",
    "if x==2: # If condition is false\n",
    "    print('The if condition is true')\n",
    "else:\n",
    "    print('Else part is executed')"
   ]
  },
  {
   "cell_type": "code",
   "execution_count": 8,
   "id": "59d010ab",
   "metadata": {},
   "outputs": [
    {
     "name": "stdout",
     "output_type": "stream",
     "text": [
      "i am not\n"
     ]
    }
   ],
   "source": [
    "x=-23\n",
    "if(x>0):\n",
    "    print('i am in if block')\n",
    "else:\n",
    "    print('i am not')"
   ]
  },
  {
   "cell_type": "code",
   "execution_count": 9,
   "id": "907a8a19",
   "metadata": {},
   "outputs": [
    {
     "name": "stdout",
     "output_type": "stream",
     "text": [
      "i am out of if block\n"
     ]
    }
   ],
   "source": [
    "if(5<4):\n",
    "    print('5 is big')\n",
    "    print('i am in if block')\n",
    "\n",
    "\n",
    "\n",
    "print('i am out of if block') "
   ]
  },
  {
   "cell_type": "code",
   "execution_count": 10,
   "id": "a35e851d",
   "metadata": {},
   "outputs": [
    {
     "name": "stdout",
     "output_type": "stream",
     "text": [
      "X is Negative\n",
      "i am in else block\n",
      "i am  out of IF block\n"
     ]
    }
   ],
   "source": [
    "# if ... else\n",
    "\n",
    "x = -5\n",
    "\n",
    "if x>0:\n",
    "    print(\"X is positive\")\n",
    "    print(\"i am in IF block\")\n",
    "else:\n",
    "    print(\"X is Negative\")\n",
    "    print('i am in else block')\n",
    "    \n",
    "print(\"i am  out of IF block\")"
   ]
  },
  {
   "cell_type": "code",
   "execution_count": 1,
   "id": "a53f47e7",
   "metadata": {},
   "outputs": [
    {
     "name": "stdout",
     "output_type": "stream",
     "text": [
      "Else part is executed\n"
     ]
    }
   ],
   "source": [
    "x = 5\n",
    "if x==2:\n",
    "    print(\"the if condition is true\")\n",
    "else:\n",
    "    print(\"Else part is executed\")"
   ]
  },
  {
   "cell_type": "code",
   "execution_count": 2,
   "id": "5000cb13",
   "metadata": {},
   "outputs": [
    {
     "name": "stdout",
     "output_type": "stream",
     "text": [
      "i am in if block\n"
     ]
    }
   ],
   "source": [
    "x = 1\n",
    "if (x>0):\n",
    "    print(\"i am in if block\")\n",
    "else:\n",
    "    print(\"i am not\")"
   ]
  },
  {
   "cell_type": "code",
   "execution_count": 6,
   "id": "55875f32",
   "metadata": {},
   "outputs": [
    {
     "name": "stdout",
     "output_type": "stream",
     "text": [
      "if am out of if block\n"
     ]
    }
   ],
   "source": [
    "if(5<4):\n",
    "    print(\"5 is big\")\n",
    "    print('i am in if block')\n",
    "    \n",
    "print('if am out of if block')"
   ]
  },
  {
   "cell_type": "code",
   "execution_count": 11,
   "id": "0d9cf694",
   "metadata": {},
   "outputs": [
    {
     "name": "stdout",
     "output_type": "stream",
     "text": [
      "i am in elif block\n"
     ]
    }
   ],
   "source": [
    "x = 5\n",
    "if(x>10):\n",
    "    print(\"i am in if block\")\n",
    "elif(x<6):\n",
    "    print(\"i am in elif block\")\n",
    "else:\n",
    "    print(\"i am in else block\")"
   ]
  },
  {
   "cell_type": "markdown",
   "id": "c46ef961",
   "metadata": {},
   "source": [
    "## Input function"
   ]
  },
  {
   "cell_type": "code",
   "execution_count": 12,
   "id": "ca7d6037",
   "metadata": {},
   "outputs": [
    {
     "name": "stdout",
     "output_type": "stream",
     "text": [
      "Enter your name: Sagar\n"
     ]
    }
   ],
   "source": [
    "a = input(\"Enter your name: \")"
   ]
  },
  {
   "cell_type": "code",
   "execution_count": 13,
   "id": "1fc72bac",
   "metadata": {},
   "outputs": [
    {
     "data": {
      "text/plain": [
       "'Sagar'"
      ]
     },
     "execution_count": 13,
     "metadata": {},
     "output_type": "execute_result"
    }
   ],
   "source": [
    "a"
   ]
  },
  {
   "cell_type": "code",
   "execution_count": 15,
   "id": "cad72a65",
   "metadata": {},
   "outputs": [
    {
     "data": {
      "text/plain": [
       "str"
      ]
     },
     "execution_count": 15,
     "metadata": {},
     "output_type": "execute_result"
    }
   ],
   "source": [
    "type(a)"
   ]
  },
  {
   "cell_type": "code",
   "execution_count": 18,
   "id": "929541e6",
   "metadata": {},
   "outputs": [
    {
     "name": "stdout",
     "output_type": "stream",
     "text": [
      "Enter your marks: 35\n"
     ]
    },
    {
     "data": {
      "text/plain": [
       "35"
      ]
     },
     "execution_count": 18,
     "metadata": {},
     "output_type": "execute_result"
    }
   ],
   "source": [
    "b = int(input(\"Enter your marks: \"))\n",
    "b"
   ]
  },
  {
   "cell_type": "code",
   "execution_count": 17,
   "id": "a2c42d4a",
   "metadata": {},
   "outputs": [
    {
     "data": {
      "text/plain": [
       "int"
      ]
     },
     "execution_count": 17,
     "metadata": {},
     "output_type": "execute_result"
    }
   ],
   "source": [
    "type(b)"
   ]
  },
  {
   "cell_type": "code",
   "execution_count": 2,
   "id": "41c62431",
   "metadata": {},
   "outputs": [],
   "source": [
    "##Nesting\n",
    "x = 4\n",
    "if(x>=5):\n",
    "    print(\"i am in 1st if\")\n",
    "    if(x>4):\n",
    "        print(\"i am in 2nd if\")\n",
    "        if(x==4):\n",
    "            print(\"i am in 3rd if\")"
   ]
  },
  {
   "cell_type": "code",
   "execution_count": null,
   "id": "35d2d9a3",
   "metadata": {},
   "outputs": [],
   "source": []
  },
  {
   "cell_type": "markdown",
   "id": "cc243bd8",
   "metadata": {},
   "source": [
    "# Packages"
   ]
  },
  {
   "cell_type": "markdown",
   "id": "a57bbf1a",
   "metadata": {},
   "source": [
    "### Datetime package"
   ]
  },
  {
   "cell_type": "code",
   "execution_count": 5,
   "id": "1bdb0cc6",
   "metadata": {},
   "outputs": [],
   "source": [
    "from datetime import date"
   ]
  },
  {
   "cell_type": "code",
   "execution_count": 6,
   "id": "9f71a15f",
   "metadata": {},
   "outputs": [],
   "source": [
    "my_date = date(1996,12,11)"
   ]
  },
  {
   "cell_type": "code",
   "execution_count": 7,
   "id": "931dc144",
   "metadata": {},
   "outputs": [
    {
     "data": {
      "text/plain": [
       "datetime.date(1996, 12, 11)"
      ]
     },
     "execution_count": 7,
     "metadata": {},
     "output_type": "execute_result"
    }
   ],
   "source": [
    "my_date"
   ]
  },
  {
   "cell_type": "code",
   "execution_count": 9,
   "id": "18ff0b25",
   "metadata": {},
   "outputs": [
    {
     "name": "stdout",
     "output_type": "stream",
     "text": [
      "Today's date is 2022-03-04\n"
     ]
    }
   ],
   "source": [
    "#Getting today's date\n",
    "today = date.today()\n",
    "print(\"Today's date is\", today)"
   ]
  },
  {
   "cell_type": "code",
   "execution_count": 11,
   "id": "f3690d01",
   "metadata": {},
   "outputs": [
    {
     "name": "stdout",
     "output_type": "stream",
     "text": [
      "current year: 2022\n",
      "current month: 3\n",
      "current day: 4\n"
     ]
    }
   ],
   "source": [
    "#get today's year, month, date\n",
    "print(\"current year:\", today.year)\n",
    "print(\"current month:\", today.month)\n",
    "print(\"current day:\", today.day)"
   ]
  },
  {
   "cell_type": "markdown",
   "id": "c56d8714",
   "metadata": {},
   "source": [
    "# 07-03-2022"
   ]
  },
  {
   "cell_type": "markdown",
   "id": "592f2e75",
   "metadata": {},
   "source": [
    "# Datetime"
   ]
  },
  {
   "cell_type": "code",
   "execution_count": 1,
   "id": "9727114a",
   "metadata": {},
   "outputs": [
    {
     "data": {
      "text/plain": [
       "datetime.datetime(2022, 3, 7, 10, 14, 42, 939477)"
      ]
     },
     "execution_count": 1,
     "metadata": {},
     "output_type": "execute_result"
    }
   ],
   "source": [
    "#Get date from datetime sub module\n",
    "from datetime import datetime as dt\n",
    "\n",
    "date1 = dt.now()\n",
    "date1"
   ]
  },
  {
   "cell_type": "code",
   "execution_count": 2,
   "id": "97d10780",
   "metadata": {},
   "outputs": [
    {
     "data": {
      "text/plain": [
       "datetime.date(2022, 3, 7)"
      ]
     },
     "execution_count": 2,
     "metadata": {},
     "output_type": "execute_result"
    }
   ],
   "source": [
    "dt.date(date1)"
   ]
  },
  {
   "cell_type": "code",
   "execution_count": 3,
   "id": "305a4264",
   "metadata": {},
   "outputs": [
    {
     "data": {
      "text/plain": [
       "7"
      ]
     },
     "execution_count": 3,
     "metadata": {},
     "output_type": "execute_result"
    }
   ],
   "source": [
    "date1.day"
   ]
  },
  {
   "cell_type": "code",
   "execution_count": 4,
   "id": "67639e47",
   "metadata": {},
   "outputs": [
    {
     "data": {
      "text/plain": [
       "10"
      ]
     },
     "execution_count": 4,
     "metadata": {},
     "output_type": "execute_result"
    }
   ],
   "source": [
    "date1.hour"
   ]
  },
  {
   "cell_type": "code",
   "execution_count": 6,
   "id": "647c216e",
   "metadata": {},
   "outputs": [
    {
     "data": {
      "text/plain": [
       "1"
      ]
     },
     "execution_count": 6,
     "metadata": {},
     "output_type": "execute_result"
    }
   ],
   "source": [
    "date1.isoweekday()"
   ]
  },
  {
   "cell_type": "code",
   "execution_count": 9,
   "id": "b3da2d7f",
   "metadata": {},
   "outputs": [
    {
     "data": {
      "text/plain": [
       "3"
      ]
     },
     "execution_count": 9,
     "metadata": {},
     "output_type": "execute_result"
    }
   ],
   "source": [
    "date1.month"
   ]
  },
  {
   "cell_type": "code",
   "execution_count": 5,
   "id": "acf794ca",
   "metadata": {},
   "outputs": [],
   "source": [
    "#Time submodule\n",
    "\n",
    "from datetime import time"
   ]
  },
  {
   "cell_type": "code",
   "execution_count": 6,
   "id": "2eef830b",
   "metadata": {},
   "outputs": [
    {
     "name": "stdout",
     "output_type": "stream",
     "text": [
      "Enter time 13:24:36\n"
     ]
    }
   ],
   "source": [
    "my_time = time(13,24,36)\n",
    "print(\"Enter time\", my_time)"
   ]
  },
  {
   "cell_type": "code",
   "execution_count": 7,
   "id": "40739c57",
   "metadata": {},
   "outputs": [
    {
     "name": "stdout",
     "output_type": "stream",
     "text": [
      "Initial_date 2022-03-09\n"
     ]
    },
    {
     "data": {
      "text/plain": [
       "datetime.date(2024, 3, 8)"
      ]
     },
     "execution_count": 7,
     "metadata": {},
     "output_type": "execute_result"
    }
   ],
   "source": [
    "#Time deta function demonstration\n",
    "\n",
    "from datetime import date, timedelta\n",
    "\n",
    "current_time = date.today()\n",
    "\n",
    "#printing initial_date\n",
    "print(\"Initial_date\", str(current_time))\n",
    "\n",
    "#calculating future dates\n",
    "#for two years\n",
    "future_date_after_2yrs = current_time + timedelta(days=730)\n",
    "future_date_after_2yrs"
   ]
  },
  {
   "cell_type": "code",
   "execution_count": 8,
   "id": "5ba789d0",
   "metadata": {},
   "outputs": [
    {
     "ename": "SyntaxError",
     "evalue": "unexpected EOF while parsing (Temp/ipykernel_6936/2366049838.py, line 7)",
     "output_type": "error",
     "traceback": [
      "\u001b[1;36m  File \u001b[1;32m\"C:\\Users\\sagar\\AppData\\Local\\Temp/ipykernel_6936/2366049838.py\"\u001b[1;36m, line \u001b[1;32m7\u001b[0m\n\u001b[1;33m    print(\"age_after_5000_days will be {}\".format(futureAge.year - birthYear.year)\u001b[0m\n\u001b[1;37m                                                                                  ^\u001b[0m\n\u001b[1;31mSyntaxError\u001b[0m\u001b[1;31m:\u001b[0m unexpected EOF while parsing\n"
     ]
    }
   ],
   "source": [
    "currentAge = date.today()\n",
    "birthYear= date(1997, 5, 26)\n",
    "\n",
    "print(\"current_age {}\".format(currentAge.year - birthYear.year))\n",
    "\n",
    "futureAge = currentAge + timedelta(days=5000)\n",
    "print(\"age_after_5000_days will be {}\".format(futureAge.year - birthYear.year)"
   ]
  },
  {
   "cell_type": "code",
   "execution_count": null,
   "id": "af9eba55",
   "metadata": {},
   "outputs": [],
   "source": []
  }
 ],
 "metadata": {
  "kernelspec": {
   "display_name": "Python 3 (ipykernel)",
   "language": "python",
   "name": "python3"
  },
  "language_info": {
   "codemirror_mode": {
    "name": "ipython",
    "version": 3
   },
   "file_extension": ".py",
   "mimetype": "text/x-python",
   "name": "python",
   "nbconvert_exporter": "python",
   "pygments_lexer": "ipython3",
   "version": "3.9.7"
  }
 },
 "nbformat": 4,
 "nbformat_minor": 5
}
